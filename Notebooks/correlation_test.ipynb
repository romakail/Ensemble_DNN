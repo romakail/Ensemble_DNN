{
 "cells": [
  {
   "cell_type": "code",
   "execution_count": 1,
   "metadata": {},
   "outputs": [],
   "source": [
    "# System\n",
    "import os\n",
    "\n",
    "# Data processing\n",
    "import numpy as np\n",
    "import math as m\n",
    "\n",
    "# Results presentation\n",
    "import matplotlib\n",
    "import matplotlib.pyplot as plt\n",
    "from tqdm import tqdm_notebook as tqdm\n",
    "from IPython.display import clear_output\n",
    "from tabulate import tabulate\n",
    "\n",
    "# NN related stuff\n",
    "import torch\n",
    "import torch.nn as nn\n",
    "import torch.nn.functional as F\n",
    "from torch.utils.data import Dataset, DataLoader\n",
    "# from torch.autograd import Variable\n",
    "\n",
    "import data\n",
    "import models\n",
    "import utils\n",
    "import correlation\n",
    "\n",
    "%matplotlib inline"
   ]
  },
  {
   "cell_type": "code",
   "execution_count": 10,
   "metadata": {},
   "outputs": [
    {
     "name": "stdout",
     "output_type": "stream",
     "text": [
      "0 1 18\n",
      "1 2 18\n",
      "2 3 18\n",
      "3 4 18\n",
      "4 5 18\n",
      "5 6 18\n",
      "6 7 18\n",
      "7 8 18\n",
      "8 9 18\n",
      "9 10 18\n",
      "10 11 18\n",
      "11 12 18\n",
      "12 13 18\n",
      "13 14 18\n",
      "14 15 18\n",
      "15 16 18\n",
      "16 17 18\n",
      "17 18 18\n",
      "18 19 18\n",
      "19 20 18\n"
     ]
    }
   ],
   "source": [
    "def iterator():\n",
    "    for i in range(20):\n",
    "        yield i, i+1, i-1\n",
    "for a, b, c in iterator():\n",
    "    print (a, b, c)\n",
    "    "
   ]
  },
  {
   "cell_type": "code",
   "execution_count": 9,
   "metadata": {},
   "outputs": [],
   "source": [
    "class GlobalArguments():\n",
    "    \n",
    "    def __init__(self):\n",
    "        self.model       = 'vgg16_bn'\n",
    "        self.dataset     = 'CIFAR10'\n",
    "        self.data_path   = 'Data/'\n",
    "        self.batch_size  = 128\n",
    "        self.num_workers = 4\n",
    "        self.transform   = 'VGG'\n",
    "        self.use_test    = True\n",
    "        self.models_path = 'Checkpoints/'\n",
    "        self.n_models    = 17\n",
    "args = GlobalArguments()"
   ]
  },
  {
   "cell_type": "code",
   "execution_count": 10,
   "metadata": {},
   "outputs": [
    {
     "name": "stdout",
     "output_type": "stream",
     "text": [
      "Files already downloaded and verified\n",
      "You are going to run models on the test set. Are you sure?\n",
      "Files already downloaded and verified\n"
     ]
    }
   ],
   "source": [
    "loaders, num_classes = data.loaders(\n",
    "    args.dataset,\n",
    "    args.data_path,\n",
    "    args.batch_size,\n",
    "    args.num_workers,\n",
    "    args.transform,\n",
    "    args.use_test\n",
    ")"
   ]
  },
  {
   "cell_type": "code",
   "execution_count": 11,
   "metadata": {},
   "outputs": [],
   "source": [
    "architecture = getattr(models, args.model)"
   ]
  },
  {
   "cell_type": "code",
   "execution_count": 5,
   "metadata": {},
   "outputs": [],
   "source": [
    "# models_list_fge = []\n",
    "# # indicies = range (690, 1011, 20)\n",
    "# indicies = range (210, 1011, 160)\n",
    "\n",
    "# for i in indicies:\n",
    "#     model = architecture.base(num_classes=num_classes, **architecture.kwargs)\n",
    "#     checkpoint = torch.load('./Checkpoints/FGE_VGG16BN_CIFAR10_CYCLE8_3/fge-' + str(i) + '.pt', map_location=torch.device('cpu'))\n",
    "# #     print (model)\n",
    "#     model.load_state_dict(checkpoint['model_state'])\n",
    "#     models_list_fge.append(model)"
   ]
  },
  {
   "cell_type": "code",
   "execution_count": 6,
   "metadata": {},
   "outputs": [],
   "source": [
    "# model1 = models_list_fge[0]\n",
    "# model2 = models_list_fge[5]"
   ]
  },
  {
   "cell_type": "code",
   "execution_count": 14,
   "metadata": {},
   "outputs": [
    {
     "data": {
      "text/plain": [
       "<All keys matched successfully>"
      ]
     },
     "execution_count": 14,
     "metadata": {},
     "output_type": "execute_result"
    }
   ],
   "source": [
    "model1 = architecture.base(num_classes=num_classes, **architecture.kwargs)\n",
    "checkpoint = torch.load('./Checkpoints/VGG16BN/new/CIFAR10_STEP200/2/checkpoint-' + str(200) + '.pt', map_location=torch.device('cpu'))\n",
    "model1.load_state_dict(checkpoint['model_state'])\n",
    "\n",
    "model2 = architecture.base(num_classes=num_classes, **architecture.kwargs)\n",
    "checkpoint = torch.load('./Checkpoints/VGG16BN/new/CIFAR10_STEP200/3/checkpoint-' + str(200) + '.pt', map_location=torch.device('cpu'))\n",
    "model2.load_state_dict(checkpoint['model_state'])"
   ]
  },
  {
   "cell_type": "code",
   "execution_count": 15,
   "metadata": {},
   "outputs": [],
   "source": [
    "table = correlation.layers_diff(model1, model2)"
   ]
  },
  {
   "cell_type": "code",
   "execution_count": 16,
   "metadata": {},
   "outputs": [],
   "source": [
    "# for a in table:\n",
    "#     print (a)"
   ]
  },
  {
   "cell_type": "code",
   "execution_count": 17,
   "metadata": {},
   "outputs": [
    {
     "name": "stdout",
     "output_type": "stream",
     "text": [
      "  Num  Layer      N_params     L1     L2     Cos    Was\n",
      "-----  -------  ----------  -----  -----  ------  -----\n",
      "    2  weight         1728  0.18   0.234  -0.017  0.007\n",
      "    2  bias             64  0      0       0.089  0\n",
      "    5  weight        36864  0.058  0.074   0.02   0.001\n",
      "    5  bias             64  0      0      -0.178  0\n",
      "    9  weight        73728  0.049  0.062   0.004  0\n",
      "    9  bias            128  0      0      -0.05   0\n",
      "   12  weight       147456  0.042  0.053   0.008  0.001\n",
      "   12  bias            128  0      0       0.143  0\n",
      "   16  weight       294912  0.035  0.043   0.002  0\n",
      "   16  bias            256  0      0      -0.043  0\n",
      "   19  weight       589824  0.029  0.037   0.007  0\n",
      "   19  bias            256  0      0       0.049  0\n",
      "   22  weight       589824  0.029  0.036   0.003  0\n",
      "   22  bias            256  0      0       0.045  0\n",
      "   26  weight      1179648  0.019  0.024  -0      0\n",
      "   26  bias            512  0      0      -0.002  0\n",
      "   29  weight      2359296  0.016  0.02    0.001  0\n",
      "   29  bias            512  0      0       0.075  0\n",
      "   32  weight      2359296  0.015  0.019   0.001  0\n",
      "   32  bias            512  0      0      -0.005  0\n",
      "   36  weight      2359296  0.014  0.018   0.002  0\n",
      "   36  bias            512  0      0       0.013  0\n",
      "   39  weight      2359296  0.014  0.018  -0      0\n",
      "   39  bias            512  0      0      -0.002  0\n",
      "   42  weight      2359296  0.014  0.018  -0      0\n",
      "   42  bias            512  0      0      -0.04   0\n"
     ]
    }
   ],
   "source": [
    "print(tabulate(table, headers='keys'))"
   ]
  },
  {
   "cell_type": "code",
   "execution_count": null,
   "metadata": {},
   "outputs": [],
   "source": [
    "0.append(0)"
   ]
  },
  {
   "cell_type": "code",
   "execution_count": null,
   "metadata": {},
   "outputs": [],
   "source": [
    "# for p in model.modules():\n",
    "#     print (type(p))\n",
    "#     for a in p.state_dict().keys():\n",
    "#         print ('    ', a, p.state_dict()[a].shape)\n",
    "\n",
    "# for idx, module in enumerate(model.modules()):\n",
    "#     if type(module) == torch.nn.modules.conv.Conv2d:\n",
    "#         for key in module.state_dict().keys():\n",
    "#             print ('[', idx, ']', key, module.state_dict()[key].shape)\n"
   ]
  },
  {
   "cell_type": "code",
   "execution_count": null,
   "metadata": {},
   "outputs": [],
   "source": [
    "correlation.layers_L2(models_list_fge[0], models_list_fge[1])"
   ]
  },
  {
   "cell_type": "code",
   "execution_count": null,
   "metadata": {},
   "outputs": [],
   "source": [
    "a = torch.nn.parameter.Parameter()\n",
    "dir(a)"
   ]
  },
  {
   "cell_type": "code",
   "execution_count": null,
   "metadata": {},
   "outputs": [],
   "source": [
    "# a = correlation.correlation_over_classes(model1, model2, loaders['test'], torch.device('cuda:0'))"
   ]
  },
  {
   "cell_type": "code",
   "execution_count": null,
   "metadata": {},
   "outputs": [],
   "source": [
    "correlation.layers_L2(models_list_fge[0], models_list[1], device=torch.device('cuda:0'))"
   ]
  },
  {
   "cell_type": "code",
   "execution_count": null,
   "metadata": {
    "scrolled": false
   },
   "outputs": [],
   "source": [
    "cor_matrix = correlation.cross_entropy_Nmodels (models_list_fge, loaders['test'], torch.device('cpu'), mean=True)"
   ]
  },
  {
   "cell_type": "code",
   "execution_count": null,
   "metadata": {},
   "outputs": [],
   "source": [
    "def heatmap(data, row_labels, col_labels, ax=None,\n",
    "            cbar_kw={}, cbarlabel=\"\", **kwargs):\n",
    "    \"\"\"\n",
    "    Create a heatmap from a numpy array and two lists of labels.\n",
    "\n",
    "    Parameters\n",
    "    ----------\n",
    "    data\n",
    "        A 2D numpy array of shape (N, M).\n",
    "    row_labels\n",
    "        A list or array of length N with the labels for the rows.\n",
    "    col_labels\n",
    "        A list or array of length M with the labels for the columns.\n",
    "    ax\n",
    "        A `matplotlib.axes.Axes` instance to which the heatmap is plotted.  If\n",
    "        not provided, use current axes or create a new one.  Optional.\n",
    "    cbar_kw\n",
    "        A dictionary with arguments to `matplotlib.Figure.colorbar`.  Optional.\n",
    "    cbarlabel\n",
    "        The label for the colorbar.  Optional.\n",
    "    **kwargs\n",
    "        All other arguments are forwarded to `imshow`.\n",
    "    \"\"\"\n",
    "\n",
    "    if not ax:\n",
    "        ax = plt.gca()\n",
    "\n",
    "    # Plot the heatmap\n",
    "    im = ax.imshow(data, **kwargs)\n",
    "\n",
    "    # Create colorbar\n",
    "    cbar = ax.figure.colorbar(im, ax=ax, **cbar_kw)\n",
    "    cbar.ax.set_ylabel(cbarlabel, rotation=-90, va=\"bottom\")\n",
    "\n",
    "    # We want to show all ticks...\n",
    "    ax.set_xticks(np.arange(data.shape[1]))\n",
    "    ax.set_yticks(np.arange(data.shape[0]))\n",
    "    # ... and label them with the respective list entries.\n",
    "    ax.set_xticklabels(col_labels)\n",
    "    ax.set_yticklabels(row_labels)\n",
    "\n",
    "    # Let the horizontal axes labeling appear on top.\n",
    "    ax.tick_params(top=True, bottom=False,\n",
    "                   labeltop=True, labelbottom=False)\n",
    "\n",
    "    # Rotate the tick labels and set their alignment.\n",
    "    plt.setp(ax.get_xticklabels(), rotation=-30, ha=\"right\",\n",
    "             rotation_mode=\"anchor\")\n",
    "\n",
    "    # Turn spines off and create white grid.\n",
    "    for edge, spine in ax.spines.items():\n",
    "        spine.set_visible(False)\n",
    "\n",
    "    ax.set_xticks(np.arange(data.shape[1]+1)-.5, minor=True)\n",
    "    ax.set_yticks(np.arange(data.shape[0]+1)-.5, minor=True)\n",
    "    ax.grid(which=\"minor\", color=\"w\", linestyle='-', linewidth=3)\n",
    "    ax.tick_params(which=\"minor\", bottom=False, left=False)\n",
    "\n",
    "    return im, cbar\n",
    "def annotate_heatmap(im, data=None, valfmt=\"{x:.2f}\",\n",
    "                     textcolors=[\"black\", \"white\"],\n",
    "                     threshold=None, **textkw):\n",
    "    \"\"\"\n",
    "    A function to annotate a heatmap.\n",
    "\n",
    "    Parameters\n",
    "    ----------\n",
    "    im\n",
    "        The AxesImage to be labeled.\n",
    "    data\n",
    "        Data used to annotate.  If None, the image's data is used.  Optional.\n",
    "    valfmt\n",
    "        The format of the annotations inside the heatmap.  This should either\n",
    "        use the string format method, e.g. \"$ {x:.2f}\", or be a\n",
    "        `matplotlib.ticker.Formatter`.  Optional.\n",
    "    textcolors\n",
    "        A list or array of two color specifications.  The first is used for\n",
    "        values below a threshold, the second for those above.  Optional.\n",
    "    threshold\n",
    "        Value in data units according to which the colors from textcolors are\n",
    "        applied.  If None (the default) uses the middle of the colormap as\n",
    "        separation.  Optional.\n",
    "    **kwargs\n",
    "        All other arguments are forwarded to each call to `text` used to create\n",
    "        the text labels.\n",
    "    \"\"\"\n",
    "\n",
    "    if not isinstance(data, (list, np.ndarray)):\n",
    "        data = im.get_array()\n",
    "\n",
    "    # Normalize the threshold to the images color range.\n",
    "    if threshold is not None:\n",
    "        threshold = im.norm(threshold)\n",
    "    else:\n",
    "        threshold = im.norm(data.max())/2.\n",
    "\n",
    "    # Set default alignment to center, but allow it to be\n",
    "    # overwritten by textkw.\n",
    "    kw = dict(horizontalalignment=\"center\",\n",
    "              verticalalignment=\"center\")\n",
    "    kw.update(textkw)\n",
    "\n",
    "    # Get the formatter in case a string is supplied\n",
    "    if isinstance(valfmt, str):\n",
    "        valfmt = matplotlib.ticker.StrMethodFormatter(valfmt)\n",
    "\n",
    "    # Loop over the data and create a `Text` for each \"pixel\".\n",
    "    # Change the text's color depending on the data.\n",
    "    texts = []\n",
    "    for i in range(data.shape[0]):\n",
    "        for j in range(data.shape[1]):\n",
    "            kw.update(color=textcolors[int(im.norm(data[i, j]) > threshold)])\n",
    "            text = im.axes.text(j, i, valfmt(data[i, j], None), **kw)\n",
    "            texts.append(text)\n",
    "\n",
    "    return texts"
   ]
  },
  {
   "cell_type": "code",
   "execution_count": null,
   "metadata": {},
   "outputs": [],
   "source": [
    "models_num = [1, 2, 3, 4, 5, 6]\n",
    "fig, ax = plt.subplots()\n",
    "\n",
    "im, cbar = heatmap(cor_matrix, models_num, models_num, ax=ax,\n",
    "                   cmap=\"YlGn\", cbarlabel=\"corelation\")\n",
    "texts = annotate_heatmap(im, valfmt=\"{x:.3f}\")\n",
    "\n",
    "fig.tight_layout()\n",
    "plt.show()"
   ]
  },
  {
   "cell_type": "code",
   "execution_count": null,
   "metadata": {},
   "outputs": [],
   "source": [
    "# cor_matrix = correlation.correlation_among_models (models, loaders['test'], torch.device('cuda:0'), one_hot=False)"
   ]
  },
  {
   "cell_type": "code",
   "execution_count": null,
   "metadata": {},
   "outputs": [],
   "source": [
    "# models_num = [1, 2, 3, 4, 5, 6]\n",
    "# fig, ax = plt.subplots()\n",
    "\n",
    "# im, cbar = heatmap(cor_matrix, models_num, models_num, ax=ax,\n",
    "#                    cmap=\"YlGn\", cbarlabel=\"corelation\")\n",
    "# texts = annotate_heatmap(im, valfmt=\"{x:.3f}\")\n",
    "\n",
    "# fig.tight_layout()\n",
    "# plt.show()"
   ]
  },
  {
   "cell_type": "code",
   "execution_count": null,
   "metadata": {},
   "outputs": [],
   "source": []
  }
 ],
 "metadata": {
  "kernelspec": {
   "display_name": "Python 3",
   "language": "python",
   "name": "python3"
  },
  "language_info": {
   "codemirror_mode": {
    "name": "ipython",
    "version": 3
   },
   "file_extension": ".py",
   "mimetype": "text/x-python",
   "name": "python",
   "nbconvert_exporter": "python",
   "pygments_lexer": "ipython3",
   "version": "3.7.4"
  }
 },
 "nbformat": 4,
 "nbformat_minor": 2
}
