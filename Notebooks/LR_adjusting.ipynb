{
 "cells": [
  {
   "cell_type": "code",
   "execution_count": 1,
   "metadata": {},
   "outputs": [],
   "source": [
    "# System\n",
    "import os\n",
    "import sys\n",
    "import inspect\n",
    "import tabulate\n",
    "import time\n",
    "\n",
    "# Data processing\n",
    "import numpy as np\n",
    "import math as m\n",
    "\n",
    "# Results presentation\n",
    "from tqdm import tqdm as tqdm\n",
    "from IPython.display import clear_output\n",
    "import matplotlib\n",
    "import matplotlib.pyplot as plt\n",
    "\n",
    "# NN related stuff\n",
    "import torch\n",
    "import torch.nn as nn\n",
    "import torch.nn.functional as F\n",
    "from torch.utils.data import Dataset, DataLoader\n",
    "\n",
    "current_dir = os.path.dirname(os.path.abspath(inspect.getfile(inspect.currentframe())))\n",
    "parent_dir = os.path.dirname(current_dir)\n",
    "sys.path.insert(0, parent_dir) \n",
    "\n",
    "import data\n",
    "import models\n",
    "import utils\n",
    "import correlation\n",
    "import regularization\n",
    "\n",
    "%matplotlib inline"
   ]
  },
  {
   "cell_type": "code",
   "execution_count": 2,
   "metadata": {},
   "outputs": [],
   "source": [
    "class GlobalArguments():\n",
    "    \n",
    "    def __init__(self):\n",
    "        self.model       = 'ConvFC'\n",
    "        self.dataset     = 'CIFAR100'\n",
    "        self.data_path   = '../Data/'\n",
    "        self.batch_size  = 128\n",
    "        self.num_workers = 4\n",
    "        self.transform   = 'VGG'\n",
    "        self.use_test    = True\n",
    "        self.models_path = 'Checkpoints/'\n",
    "        self.n_models    = 40\n",
    "        self.boost_ckpts = '../Checkpoints/FGE/CIFAR100/ConvFC/grad_boost/classic/lr_auto/0.01-0.0001_0/'\n",
    "        self.new_model   = '../Checkpoints/FGE/CIFAR100/ConvFC/grad_boost/classic/lr_auto/0.01-0.0001_0/fge-349.pt'\n",
    "        self.device      = 1\n",
    "args = GlobalArguments()"
   ]
  },
  {
   "cell_type": "code",
   "execution_count": 3,
   "metadata": {},
   "outputs": [],
   "source": [
    "device = 'cuda:' + str(args.device) if torch.cuda.is_available() else 'cpu'\n",
    "torch.cuda.set_device(device)"
   ]
  },
  {
   "cell_type": "code",
   "execution_count": 4,
   "metadata": {},
   "outputs": [],
   "source": [
    "if   args.dataset == \"CIFAR10\":\n",
    "    num_classes = 10\n",
    "elif args.dataset == \"CIFAR100\":\n",
    "    num_classes = 100\n",
    "\n",
    "architecture = getattr(models, args.model)"
   ]
  },
  {
   "cell_type": "code",
   "execution_count": 5,
   "metadata": {},
   "outputs": [
    {
     "name": "stderr",
     "output_type": "stream",
     "text": [
      "100%|██████████| 3/3 [00:00<00:00, 19.51it/s]\n"
     ]
    }
   ],
   "source": [
    "ens_models = []\n",
    "models_weights  = []\n",
    "# indicies = range (690, 1011, 20)\n",
    "# indicies = [i for i in range (349, 2600, 150)]\n",
    "# indicies.insert(0, 200)\n",
    "indicies = [200, 249, 299]\n",
    "\n",
    "for i in tqdm(indicies):\n",
    "    model = architecture.base(num_classes=num_classes, **architecture.kwargs)\n",
    "    checkpoint = torch.load(args.boost_ckpts + 'fge-' + str(i) + '.pt', map_location=torch.device('cpu'))\n",
    "    model.load_state_dict(checkpoint['model_state'])\n",
    "    ens_models.append(model)\n",
    "    models_weights .append(checkpoint['boost_weight'])"
   ]
  },
  {
   "cell_type": "code",
   "execution_count": 6,
   "metadata": {},
   "outputs": [
    {
     "name": "stdout",
     "output_type": "stream",
     "text": [
      "Files already downloaded and verified\n",
      "Initial logits :\n",
      "Shape : torch.Size([50000, 100]) Logits_mean : 0.012190316803753376\n",
      "Max : 184.74026489257812 Min : -79.88529968261719\n",
      "You are going to run models on the test set. Are you sure?\n",
      "Files already downloaded and verified\n"
     ]
    }
   ],
   "source": [
    "loaders, num_classes = data.loaders_gb(\n",
    "    args.dataset,\n",
    "    args.data_path,\n",
    "    args.batch_size,\n",
    "    args.num_workers,\n",
    "    args.transform,\n",
    "    args.use_test,\n",
    "    shuffle_train=False,\n",
    "    logits_generator=regularization.dataset_logits_generator(\n",
    "        ens_models[0].cuda(),\n",
    "        transform=getattr(getattr(data.Transforms, args.dataset), args.transform).train,\n",
    "        batch_size=args.batch_size),\n",
    ")\n",
    "assert models_weights[0] == 1."
   ]
  },
  {
   "cell_type": "code",
   "execution_count": 7,
   "metadata": {},
   "outputs": [
    {
     "name": "stderr",
     "output_type": "stream",
     "text": [
      "100%|██████████| 2/2 [00:32<00:00, 16.39s/it]\n"
     ]
    }
   ],
   "source": [
    "for iter in tqdm(range(1, len(ens_models))):\n",
    "    loaders['train'].dataset.update_logits(\n",
    "        models_weights[iter],\n",
    "        logits_generator=regularization.dataset_logits_generator(\n",
    "            ens_models[iter].cuda(),\n",
    "            transform=getattr(getattr(\n",
    "                    data.Transforms,\n",
    "                    args.dataset),\n",
    "                args.transform).train,\n",
    "            batch_size = args.batch_size))\n",
    "        \n",
    "    loaders['test'].dataset.update_logits(\n",
    "        models_weights[iter],\n",
    "        logits_generator=regularization.dataset_logits_generator(\n",
    "            ens_models[iter].cuda(),\n",
    "            transform=getattr(getattr(\n",
    "                    data.Transforms,\n",
    "                    args.dataset),\n",
    "                args.transform).test,\n",
    "            batch_size = args.batch_size))"
   ]
  },
  {
   "cell_type": "code",
   "execution_count": 8,
   "metadata": {},
   "outputs": [],
   "source": [
    "new_model = architecture.base(num_classes=num_classes, **architecture.kwargs)\n",
    "checkpoint = torch.load(args.new_model, map_location=torch.device('cpu'))\n",
    "new_model.load_state_dict(checkpoint['model_state'])\n",
    "new_model_weight = checkpoint['boost_weight']"
   ]
  },
  {
   "cell_type": "code",
   "execution_count": 13,
   "metadata": {},
   "outputs": [],
   "source": [
    "def outputs_logits_labels(model, dataloader, device=torch.device('cpu')):\n",
    "    with torch.no_grad():\n",
    "        model.to(device)\n",
    "        output_list = []\n",
    "        logits_list = []\n",
    "        labels_list = []\n",
    "        for input, labels, logits in dataloader:\n",
    "            input  = input .to(device)\n",
    "            logits = logits\n",
    "            labels = labels\n",
    "\n",
    "#             target = utils.one_hot(labels, logits.shape[1]) - F.softmax(logits, dim=1)\n",
    "            output = model(input)\n",
    "\n",
    "            output_list.append(output.cpu())\n",
    "            logits_list.append(logits)\n",
    "            labels_list.append(labels)\n",
    "\n",
    "        output_list = torch.cat(output_list, dim=0)\n",
    "        logits_list = torch.cat(logits_list, dim=0)\n",
    "        labels_list = torch.cat(labels_list, dim=0)\n",
    "    return output_list, logits_list, labels_list\n",
    "\n",
    "def loss_acc_dependency (model, dataloader, device=torch.device('cpu'), start_pow=-6, fin_pow=3, n_dots=1000):\n",
    "    criterion = torch.nn.CrossEntropyLoss()\n",
    "    output_train, logits_train, labels_train = outputs_logits_labels(\n",
    "        model,\n",
    "        loaders['train'],\n",
    "        device=device)\n",
    "                \n",
    "    output_test, logits_test, labels_test = outputs_logits_labels(\n",
    "        model,\n",
    "        loaders['test'],\n",
    "        device=device)\n",
    "    \n",
    "    res = {}\n",
    "    res[\"coefs\"] = 10 ** np.linspace(start_pow, fin_pow, n_dots)\n",
    "    res[\"train_loss\"] = []\n",
    "    res[\"test_loss\"]  = []\n",
    "    res[\"train_acc\"]  = []\n",
    "    res[\"test_acc\"]   = []\n",
    "    \n",
    "    with torch.no_grad():\n",
    "        for coef in tqdm(res[\"coefs\"]):\n",
    "            pred_train = logits_train + coef * output_train\n",
    "            pred_test  = logits_test  + coef * output_test\n",
    "            res[\"train_loss\"].append(\n",
    "                criterion(pred_train, labels_train).item())\n",
    "            res[\"test_loss\"].append(\n",
    "                criterion(pred_test , labels_test ).item())\n",
    "            res[\"train_acc\"].append(\n",
    "                torch.eq(pred_train.argmax(dim=1), labels_train).float().mean().item())\n",
    "            res[\"test_acc\"].append(\n",
    "                torch.eq(pred_test .argmax(dim=1), labels_test) .float().mean().item())\n",
    "    return res\n",
    "\n",
    "\n",
    "        "
   ]
  },
  {
   "cell_type": "code",
   "execution_count": 28,
   "metadata": {},
   "outputs": [],
   "source": [
    "def draw_figures(table, filename=None):\n",
    "    fig, ((ax1, ax2), (ax3, ax4)) = plt.subplots(\n",
    "    nrows=2, ncols=2,\n",
    "    figsize=(10, 10))\n",
    "    \n",
    "    ax1.plot(table['coefs'], table['train_loss'])\n",
    "    ax1.set_title('Train Loss')\n",
    "    ax1.set_xlabel('Boost_lr')\n",
    "#     ax1.set_ylabel('Train Loss')\n",
    "    ax1.set_xscale('log')\n",
    "    \n",
    "    ax2.plot(table['coefs'], table['test_loss'])\n",
    "    ax2.set_title('Test Loss')\n",
    "    ax2.set_xlabel('Boost_lr')\n",
    "#     ax2.set_ylabel('Test Loss')\n",
    "    ax2.set_xscale('log')\n",
    "    \n",
    "    ax3.plot(table['coefs'], table['train_acc'])\n",
    "    ax3.set_title('Train accuracy')\n",
    "    ax3.set_xlabel('Boost_lr')\n",
    "#     ax3.set_ylabel('Train accuracy')\n",
    "    ax3.set_xscale('log')\n",
    "    \n",
    "    ax4.plot(table['coefs'], table['test_acc'])\n",
    "    ax4.set_title('Train accuracy')\n",
    "    ax4.set_xlabel('Boost_lr')\n",
    "#     ax4.set_ylabel('Test accuracy')\n",
    "    ax4.set_xscale('log')\n",
    "    \n",
    "    if filename is not None:\n",
    "        plt.savefig(filename + '.png')"
   ]
  },
  {
   "cell_type": "code",
   "execution_count": 30,
   "metadata": {},
   "outputs": [
    {
     "name": "stderr",
     "output_type": "stream",
     "text": [
      "100%|██████████| 1000/1000 [00:17<00:00, 57.21it/s]\n"
     ]
    }
   ],
   "source": [
    "table = loss_acc_dependency(new_model, loaders, device=torch.device('cuda'), fin_pow=1)"
   ]
  },
  {
   "cell_type": "code",
   "execution_count": 31,
   "metadata": {},
   "outputs": [
    {
     "data": {
      "image/png": "[encoded data removed]",
      "text/plain": [
       "<Figure size 720x720 with 4 Axes>"
      ]
     },
     "metadata": {
      "needs_background": "light"
     },
     "output_type": "display_data"
    }
   ],
   "source": [
    "draw_figures(table)"
   ]
  },
  {
   "cell_type": "code",
   "execution_count": null,
   "metadata": {},
   "outputs": [],
   "source": []
  },
  {
   "cell_type": "code",
   "execution_count": null,
   "metadata": {},
   "outputs": [],
   "source": []
  },
  {
   "cell_type": "code",
   "execution_count": 4,
   "metadata": {},
   "outputs": [
    {
     "data": {
      "text/plain": [
       "ConvFCBase(\n",
       "  (conv_part): Sequential(\n",
       "    (0): Conv2d(3, 32, kernel_size=(5, 5), stride=(1, 1), padding=(2, 2))\n",
       "    (1): ReLU(inplace=True)\n",
       "    (2): MaxPool2d(kernel_size=3, stride=2, padding=0, dilation=1, ceil_mode=False)\n",
       "    (3): Conv2d(32, 64, kernel_size=(5, 5), stride=(1, 1), padding=(2, 2))\n",
       "    (4): ReLU(inplace=True)\n",
       "    (5): MaxPool2d(kernel_size=3, stride=2, padding=0, dilation=1, ceil_mode=False)\n",
       "    (6): Conv2d(64, 128, kernel_size=(5, 5), stride=(1, 1), padding=(2, 2))\n",
       "    (7): ReLU(inplace=True)\n",
       "    (8): MaxPool2d(kernel_size=3, stride=2, padding=0, dilation=1, ceil_mode=False)\n",
       "  )\n",
       "  (fc_part): Sequential(\n",
       "    (0): Linear(in_features=1152, out_features=1000, bias=True)\n",
       "    (1): ReLU(inplace=True)\n",
       "    (2): Linear(in_features=1000, out_features=1000, bias=True)\n",
       "    (3): ReLU(inplace=True)\n",
       "    (4): Linear(in_features=1000, out_features=100, bias=True)\n",
       "  )\n",
       ")"
      ]
     },
     "execution_count": 4,
     "metadata": {},
     "output_type": "execute_result"
    }
   ],
   "source": [
    "if   args.dataset == \"CIFAR10\":\n",
    "    num_classes = 10\n",
    "elif args.dataset == \"CIFAR100\":\n",
    "    num_classes = 100\n",
    "    \n",
    "architecture = getattr(models, args.model)\n",
    "model = architecture.base(num_classes=num_classes, **architecture.kwargs)\n",
    "checkpoint = torch.load(args.ckpt)\n",
    "model.load_state_dict(checkpoint['model_state'])\n",
    "model.cuda()"
   ]
  },
  {
   "cell_type": "code",
   "execution_count": null,
   "metadata": {},
   "outputs": [],
   "source": []
  },
  {
   "cell_type": "code",
   "execution_count": 6,
   "metadata": {},
   "outputs": [
    {
     "name": "stderr",
     "output_type": "stream",
     "text": [
      "100%|██████████| 17/17 [00:01<00:00, 14.85it/s]\n"
     ]
    }
   ],
   "source": [
    "models_list_fge = []\n",
    "models_weights  = []\n",
    "# indicies = range (690, 1011, 20)\n",
    "indicies = [i for i in range (349, 2600, 150)]\n",
    "indicies.insert(0, 200)\n",
    "\n",
    "for i in tqdm(indicies):\n",
    "    model = architecture.base(num_classes=num_classes, **architecture.kwargs)\n",
    "    checkpoint = torch.load(args.boost_ckpts + 'fge-' + str(i) + '.pt', map_location=torch.device('cpu'))\n",
    "    model.load_state_dict(checkpoint['model_state'])\n",
    "    models_list_fge.append(model)\n",
    "    models_weights .append(checkpoint['boost_weight'])"
   ]
  },
  {
   "cell_type": "code",
   "execution_count": 7,
   "metadata": {},
   "outputs": [],
   "source": [
    "\n",
    "\n",
    "def STD(tensor):\n",
    "    return ((tensor - tensor.mean(dim=0, keepdim=True))**2).mean().sqrt().item()\n",
    "\n",
    "def target_and_predicted_distributions(model_list, loaders, device=torch.device('cpu')):\n",
    "    table = {\n",
    "        'Iter'      : [],\n",
    "        'Weight'    : [],\n",
    "        'Trg_mean'  : [],\n",
    "        'Prd_mean'  : [],\n",
    "        'Trg_std'   : [],\n",
    "        'Prd_std'   : [],\n",
    "        'Mean_L1'   : [],\n",
    "        'Mean_L2'   : [],\n",
    "        'Train_acc' : [],\n",
    "        'Test_acc'  : [],\n",
    "        'Add_std_tr': [],\n",
    "        'Add_std_te': [],\n",
    "    }\n",
    "    criterion_L2 = torch.nn.MSELoss(reduction='none')\n",
    "    criterion_L1 = torch.nn.L1Loss(reduction='none')\n",
    "    \n",
    "    output_sum_train = 0.\n",
    "    output_sum_test  = 0.\n",
    "    \n",
    "    with torch.no_grad():\n",
    "        for iter in tqdm(range(len(model_list))):\n",
    "            model = model_list[0].eval().to(device)\n",
    "            \n",
    "            output_train, target_train, labels_train = outputs_target_labels(\n",
    "                model,\n",
    "                loaders['train'],\n",
    "                device=device)\n",
    "                \n",
    "            output_test, target_test, labels_test = outputs_target_labels(\n",
    "                model,\n",
    "                loaders['test'],\n",
    "                device=device)\n",
    "            \n",
    "            output_sum_train += models_weights[iter] * output_train\n",
    "            output_sum_test  += models_weights[iter] * output_test\n",
    "         \n",
    "            table['Iter'      ].append(iter)\n",
    "            table['Weight'    ].append(models_weights[iter])\n",
    "            table['Trg_mean'  ].append(target_test.mean().item())\n",
    "            table['Prd_mean'  ].append(output_test.mean().item())\n",
    "            table['Trg_std'   ].append(STD(target_test))\n",
    "            table['Prd_std'   ].append(STD(output_test))\n",
    "            table['Mean_L1'   ].append(criterion_L1(output_test, target_test).mean().item())\n",
    "            table['Mean_L2'   ].append(criterion_L2(output_test, target_test ).mean().item())\n",
    "            table['Train_acc' ].append(torch.eq(output_sum_train.argmax(dim=1), labels_train).float().mean().item())\n",
    "            table['Test_acc'  ].append(torch.eq(output_sum_test .argmax(dim=1), labels_test ).float().mean().item())\n",
    "            table['Add_std_tr'].append(STD(models_weights[iter] * output_train))\n",
    "            table['Add_std_te'].append(STD(models_weights[iter] * output_test))\n",
    "            \n",
    "  \n",
    "            loaders['train'].dataset.update_logits(\n",
    "                models_weights[iter],\n",
    "                logits_generator=regularization.dataset_logits_generator(\n",
    "                    model,\n",
    "                    transform=getattr(getattr(\n",
    "                            data.Transforms,\n",
    "                            args.dataset),\n",
    "                        args.transform).train,\n",
    "                    batch_size = args.batch_size))\n",
    "        \n",
    "            loaders['test'].dataset.update_logits(\n",
    "                models_weights[iter],\n",
    "                logits_generator=regularization.dataset_logits_generator(\n",
    "                    model,\n",
    "                    transform=getattr(getattr(\n",
    "                            data.Transforms,\n",
    "                            args.dataset),\n",
    "                        args.transform).test,\n",
    "                    batch_size = args.batch_size))\n",
    "            \n",
    "            del model\n",
    "            del model_list[0]\n",
    "    return table\n",
    "            \n",
    "            \n",
    "#         regularization.logits_info(dataloader.dataset.logits)"
   ]
  },
  {
   "cell_type": "code",
   "execution_count": 8,
   "metadata": {},
   "outputs": [
    {
     "name": "stderr",
     "output_type": "stream",
     "text": [
      "100%|██████████| 17/17 [07:01<00:00, 24.78s/it]"
     ]
    },
    {
     "name": "stdout",
     "output_type": "stream",
     "text": [
      "+--------+--------------+-------------+--------------+-----------+--------------+------------+--------------+-------------+------------+--------------+--------------+\n",
      "|   Iter |       Weight |    Trg_mean |     Prd_mean |   Trg_std |      Prd_std |    Mean_L1 |      Mean_L2 |   Train_acc |   Test_acc |   Add_std_tr |   Add_std_te |\n",
      "+========+==============+=============+==============+===========+==============+============+==============+=============+============+==============+==============+\n",
      "|      0 |     1        | 1.79851e-09 |  0.0100058   | 0.0903728 | 11.0449      | 8.34595    | 127.565      |     0.99912 |     0.533  | 10.2491      | 11.0449      |\n",
      "+--------+--------------+-------------+--------------+-----------+--------------+------------+--------------+-------------+------------+--------------+--------------+\n",
      "|      1 | 21642.2      | 2.70844e-10 | -8.18074e-11 | 0.0914335 |  1.15125e-09 | 0.00911883 |   0.00836115 |     0.99904 |     0.5325 |  0.000122265 |  2.43175e-05 |\n",
      "+--------+--------------+-------------+--------------+-----------+--------------+------------+--------------+-------------+------------+--------------+--------------+\n",
      "|      2 |    -0.44746  | 3.03745e-10 | -0.00400784  | 0.0914285 |  0.0160473   | 0.049493   |   0.0109928  |     0.9991  |     0.5326 |  0.00752176  |  0.00718055  |\n",
      "+--------+--------------+-------------+--------------+-----------+--------------+------------+--------------+-------------+------------+--------------+--------------+\n",
      "|      3 |    -0.561514 | 2.94209e-10 |  0.00491425  | 0.0914262 |  0.0205927   | 0.0560605  |   0.0118535  |     0.9991  |     0.5328 |  0.0120467   |  0.0115631   |\n",
      "+--------+--------------+-------------+--------------+-----------+--------------+------------+--------------+-------------+------------+--------------+--------------+\n",
      "|      4 |    -0.520111 | 2.4128e-10  |  0.00342663  | 0.0914295 |  0.0188779   | 0.0527138  |   0.0111986  |     0.99908 |     0.5334 |  0.0102      |  0.0098186   |\n",
      "+--------+--------------+-------------+--------------+-----------+--------------+------------+--------------+-------------+------------+--------------+--------------+\n",
      "|      5 |     0.243718 | 2.75373e-10 | -0.00149889  | 0.0914249 |  0.0185448   | 0.0462105  |   0.0107582  |     0.99908 |     0.533  |  0.00474163  |  0.00451971  |\n",
      "+--------+--------------+-------------+--------------+-----------+--------------+------------+--------------+-------------+------------+--------------+--------------+\n",
      "|      6 |    -0.50118  | 2.8801e-10  | -0.00238447  | 0.0914251 |  0.0180872   | 0.0493953  |   0.0110821  |     0.99908 |     0.5331 |  0.00953441  |  0.00906495  |\n",
      "+--------+--------------+-------------+--------------+-----------+--------------+------------+--------------+-------------+------------+--------------+--------------+\n",
      "|      7 |    15.1155   | 3.06129e-10 | -0.000711259 | 0.0914224 |  0.0164265   | 0.0497818  |   0.0110993  |     0.99848 |     0.5284 |  0.261728    |  0.248295    |\n",
      "+--------+--------------+-------------+--------------+-----------+--------------+------------+--------------+-------------+------------+--------------+--------------+\n",
      "|      8 |    26.1721   | 2.67506e-10 |  0.00541653  | 0.091495  |  0.0191044   | 0.0542529  |   0.011843   |     0.99502 |     0.523  |  0.512899    |  0.500003    |\n",
      "+--------+--------------+-------------+--------------+-----------+--------------+------------+--------------+-------------+------------+--------------+--------------+\n",
      "|      9 |    -0.296244 | 2.8348e-10  | -0.00230723  | 0.0917286 |  0.0137752   | 0.0390563  |   0.0099193  |     0.99504 |     0.5229 |  0.00435754  |  0.00408083  |\n",
      "+--------+--------------+-------------+--------------+-----------+--------------+------------+--------------+-------------+------------+--------------+--------------+\n",
      "|     10 |    40.2626   | 2.81096e-10 |  0.000379553 | 0.0917293 |  0.0162091   | 0.0489744  |   0.0111304  |     0.9859  |     0.5151 |  0.706912    |  0.652619    |\n",
      "+--------+--------------+-------------+--------------+-----------+--------------+------------+--------------+-------------+------------+--------------+--------------+\n",
      "|     11 |    -8.66073  | 2.64883e-10 |  0.00976479  | 0.091874  |  0.015185    | 0.045801   |   0.0106015  |     0.98586 |     0.5146 |  0.140167    |  0.131514    |\n",
      "+--------+--------------+-------------+--------------+-----------+--------------+------------+--------------+-------------+------------+--------------+--------------+\n",
      "|     12 |    -2.73987  | 2.30074e-10 |  0.0023501   | 0.0918141 |  0.0138396   | 0.0420483  |   0.0102392  |     0.98574 |     0.5139 |  0.0406381   |  0.0379186   |\n",
      "+--------+--------------+-------------+--------------+-----------+--------------+------------+--------------+-------------+------------+--------------+--------------+\n",
      "|     13 |    63.3074   | 2.90155e-10 | -0.00101668  | 0.0918183 |  0.0137864   | 0.0385132  |   0.00985375 |     0.97098 |     0.5052 |  0.930736    |  0.872778    |\n",
      "+--------+--------------+-------------+--------------+-----------+--------------+------------+--------------+-------------+------------+--------------+--------------+\n",
      "|     14 |    -8.35186  | 2.78711e-10 |  0.000978264 | 0.0920228 |  0.0171708   | 0.0465634  |   0.0108521  |     0.97128 |     0.504  |  0.151119    |  0.143408    |\n",
      "+--------+--------------+-------------+--------------+-----------+--------------+------------+--------------+-------------+------------+--------------+--------------+\n",
      "|     15 |   412.177    | 2.57015e-10 |  0.00521402  | 0.0920714 |  0.0145111   | 0.039753   |   0.00990577 |     0.41252 |     0.2812 |  6.343       |  5.98113     |\n",
      "+--------+--------------+-------------+--------------+-----------+--------------+------------+--------------+-------------+------------+--------------+--------------+\n",
      "|     16 |    -5.18587  | 2.78473e-10 |  0.00321462  | 0.103866  |  0.0157047   | 0.0483356  |   0.0131316  |     0.4127  |     0.2812 |  0.0829277   |  0.0814428   |\n",
      "+--------+--------------+-------------+--------------+-----------+--------------+------------+--------------+-------------+------------+--------------+--------------+\n"
     ]
    },
    {
     "name": "stderr",
     "output_type": "stream",
     "text": [
      "\n"
     ]
    }
   ],
   "source": [
    "table = target_and_predicted_distributions(models_list_fge, loaders, device=torch.device('cuda'))\n",
    "print (tabulate.tabulate(table, headers='keys', tablefmt=\"grid\"))"
   ]
  },
  {
   "cell_type": "code",
   "execution_count": null,
   "metadata": {},
   "outputs": [],
   "source": []
  },
  {
   "cell_type": "code",
   "execution_count": 9,
   "metadata": {},
   "outputs": [],
   "source": [
    "def draw_grapfics(table, filename=None):\n",
    "    fig, ((ax1, ax2), (ax3, ax4), (ax5, ax6)) = plt.subplots(\n",
    "    nrows=3, ncols=2,\n",
    "    figsize=(10, 15))\n",
    "    \n",
    "    ax1.plot(table['Iter'], np.array(table['Train_acc']) * 100, marker='o')\n",
    "    ax1.set_title('Train accuracy')\n",
    "    ax1.set_xlabel('Iter')\n",
    "    ax1.set_ylabel('Train accuracy')\n",
    "    \n",
    "    ax2.plot(table['Iter'], np.array(table['Test_acc']) * 100, marker='o')\n",
    "    ax2.set_title('Test accuracy')\n",
    "    ax2.set_xlabel('Iter')\n",
    "    ax2.set_ylabel('Test accuracy')\n",
    "    \n",
    "    ax3.plot(table['Iter'][1:], table['Mean_L1'][1:], marker='o')\n",
    "    ax3.set_title('Mean L1 on test')\n",
    "    ax3.set_xlabel('Iter')\n",
    "    ax3.set_ylabel('L1')\n",
    "    \n",
    "    ax4.plot(table['Iter'][1:], table['Mean_L2'][1:], marker='o')\n",
    "    ax4.set_title('Mean L2 on test')\n",
    "    ax4.set_xlabel('Iter')\n",
    "    ax4.set_ylabel('L2')\n",
    "    \n",
    "    ax5.plot(table['Iter'][1:], table['Weight'][1:], marker='o')\n",
    "    ax5.set_title('Weight in boosting')\n",
    "    ax5.set_xlabel('Iter')\n",
    "    ax5.set_ylabel('Weight')\n",
    "    \n",
    "    ax6.plot(table['Iter'][1:], table['Add_std_tr'][1:], marker='o')\n",
    "    ax6.set_title('Added STD')\n",
    "    ax6.set_xlabel('Iter')\n",
    "    ax6.set_ylabel('STD')\n",
    "    \n",
    "    if filename is not None:\n",
    "        plt.savefig(filename + '.png')"
   ]
  },
  {
   "cell_type": "code",
   "execution_count": 10,
   "metadata": {},
   "outputs": [
    {
     "data": {
      "image/png": "[encoded data removed]",
      "text/plain": [
       "<Figure size 720x1080 with 6 Axes>"
      ]
     },
     "metadata": {
      "needs_background": "light"
     },
     "output_type": "display_data"
    }
   ],
   "source": [
    "# print ('Lr : 0.01 - 0.0001')\n",
    "draw_grapfics(table, filename='figures/ConvFC_GB_0.01-0.0001_150')"
   ]
  },
  {
   "cell_type": "code",
   "execution_count": 11,
   "metadata": {},
   "outputs": [],
   "source": [
    "# def ensemble_models (model_list, dataloader, device=torch.device('cpu')):\n",
    "#     with torch.no_grad():\n",
    "#         predictions = []\n",
    "#         target = []\n",
    "#         n_models = len(model_list)\n",
    "\n",
    "#         for _, labels in dataloader:\n",
    "#             target.append(labels.detach())\n",
    "#         target = torch.cat(target, dim=0)\n",
    "\n",
    "#         for iter in tqdm(range(len(model_list))):\n",
    "#             model_device = model_list[0].eval().to(device)\n",
    "#             predictions.append([])\n",
    "#             for input, _ in dataloader:\n",
    "#                 input_device = input.to(device).detach()\n",
    "#                 predictions[iter].append(model_device(input_device).detach().cpu())\n",
    "#                 del input_device\n",
    "#             predictions[iter] = torch.cat(predictions[iter], dim=0)\n",
    "#             del model_device\n",
    "#             del model_list[0]\n",
    "\n",
    "\n",
    "#         sum_prediction = torch.zeros_like(predictions[0])\n",
    "#         acc_list = []\n",
    "#         ens_acc_list = []\n",
    "#         for prediction in tqdm(predictions):\n",
    "#             sum_prediction += prediction\n",
    "#             pred_labels     = prediction    .argmax(dim=1)\n",
    "#             ens_pred_labels = sum_prediction.argmax(dim=1)\n",
    "\n",
    "#             acc     = torch.eq(pred_labels    , target).sum().item() / len(target)\n",
    "#             ens_acc = torch.eq(ens_pred_labels, target).sum().item() / len(target)\n",
    "#             acc_list    .append(acc)\n",
    "#             ens_acc_list.append(ens_acc)\n",
    "        \n",
    "#     return acc_list, ens_acc_list"
   ]
  },
  {
   "cell_type": "code",
   "execution_count": 12,
   "metadata": {},
   "outputs": [],
   "source": [
    "# torch.cuda.memory_summary(device=torch.device('cuda:0'))\n",
    "# torch.cuda.memory_snapshot()"
   ]
  },
  {
   "cell_type": "code",
   "execution_count": 13,
   "metadata": {},
   "outputs": [],
   "source": [
    "# cor_matrix = correlation.cross_entropy_Nmodels (needed_models, loaders['test'], torch.device('cpu'))"
   ]
  },
  {
   "cell_type": "code",
   "execution_count": 14,
   "metadata": {},
   "outputs": [],
   "source": [
    "# acc_list_ind, ens_acc_list_ind = ensemble_models(models_list_ind, loaders['train'], torch.device('cpu'))"
   ]
  },
  {
   "cell_type": "code",
   "execution_count": 15,
   "metadata": {},
   "outputs": [],
   "source": [
    "# acc_list_fge, ens_acc_list_fge = ensemble_models(models_list_fge, loaders['test'], torch.device('cuda:1'))"
   ]
  },
  {
   "cell_type": "code",
   "execution_count": 16,
   "metadata": {},
   "outputs": [],
   "source": [
    "# acc_list_fge_2, ens_acc_list_fge_2 = ensemble_models(models_list_fge_2, loaders['test'], torch.device('cuda:0'))"
   ]
  },
  {
   "cell_type": "code",
   "execution_count": 17,
   "metadata": {},
   "outputs": [],
   "source": [
    "# def plot (y_mas, time, savefig=None):\n",
    "\n",
    "#     fig, ax = plt.subplots()\n",
    "#     for iter, y in enumerate(y_mas):\n",
    "#         ax.plot(time, y, label=str(iter))\n",
    "\n",
    "#     ax.set(xlabel='Number of models', ylabel='Accuracy',\n",
    "#            title='Ensembling methods comparison')\n",
    "#     ax.grid()\n",
    "\n",
    "#     if savefig is not None:\n",
    "#         fig.savefig(savefig)\n",
    "#     plt.legend()\n",
    "#     plt.show()"
   ]
  },
  {
   "cell_type": "code",
   "execution_count": 18,
   "metadata": {},
   "outputs": [],
   "source": [
    "# plot ([acc_list_ind, acc_list_fge, ens_acc_list_ind, ens_acc_list_fge], np.arange(len(acc_list_ind)))\n",
    "# plot ([ens_acc_list_fge], np.arange(len(acc_list_fge)))\n",
    "# plot (\n",
    "#     [acc_list_fge,\n",
    "#      acc_list_fge_2,\n",
    "#      ens_acc_list_fge,\n",
    "#      ens_acc_list_fge_2],\n",
    "#     np.arange(len(acc_list_fge)))\n"
   ]
  },
  {
   "cell_type": "code",
   "execution_count": null,
   "metadata": {},
   "outputs": [],
   "source": [
    "\n"
   ]
  },
  {
   "cell_type": "code",
   "execution_count": null,
   "metadata": {},
   "outputs": [],
   "source": []
  }
 ],
 "metadata": {
  "kernelspec": {
   "display_name": "Python 3",
   "language": "python",
   "name": "python3"
  },
  "language_info": {
   "codemirror_mode": {
    "name": "ipython",
    "version": 3
   },
   "file_extension": ".py",
   "mimetype": "text/x-python",
   "name": "python",
   "nbconvert_exporter": "python",
   "pygments_lexer": "ipython3",
   "version": "3.7.4"
  }
 },
 "nbformat": 4,
 "nbformat_minor": 4
}
