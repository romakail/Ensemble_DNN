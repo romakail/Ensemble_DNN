{
 "cells": [
  {
   "cell_type": "code",
   "execution_count": 1,
   "metadata": {},
   "outputs": [],
   "source": [
    "# System\n",
    "import os\n",
    "import sys\n",
    "import inspect\n",
    "import tabulate\n",
    "import time\n",
    "\n",
    "# Data processing\n",
    "import numpy as np\n",
    "import math as m\n",
    "\n",
    "# Results presentation\n",
    "from tqdm import tqdm as tqdm\n",
    "from IPython.display import clear_output\n",
    "import matplotlib\n",
    "import matplotlib.pyplot as plt\n",
    "\n",
    "# NN related stuff\n",
    "import torch\n",
    "import torch.nn as nn\n",
    "import torch.nn.functional as F\n",
    "from torch.utils.data import Dataset, DataLoader\n",
    "\n",
    "current_dir = os.path.dirname(os.path.abspath(inspect.getfile(inspect.currentframe())))\n",
    "parent_dir = os.path.dirname(current_dir)\n",
    "sys.path.insert(0, parent_dir) \n",
    "\n",
    "import data\n",
    "import models\n",
    "import utils\n",
    "import correlation\n",
    "import regularization\n",
    "\n",
    "%matplotlib inline"
   ]
  },
  {
   "cell_type": "code",
   "execution_count": 2,
   "metadata": {},
   "outputs": [],
   "source": [
    "class GlobalArguments():\n",
    "    \n",
    "    def __init__(self):\n",
    "        self.model       = 'ConvFC'\n",
    "        self.dataset     = 'CIFAR100'\n",
    "        self.data_path   = '../Data/'\n",
    "        self.batch_size  = 128\n",
    "        self.num_workers = 4\n",
    "        self.transform   = 'VGG'\n",
    "        self.use_test    = True\n",
    "        self.models_path = 'Checkpoints/'\n",
    "        self.n_models    = 40\n",
    "        self.ckpt        = '../Checkpoints/FGE/CIFAR100/ConvFC/grad_boost/classic/lr_auto/0.01-0.0001_0/fge-200.pt'\n",
    "        self.boost_ckpts = '../Checkpoints/FGE/CIFAR100/ConvFC/grad_boost/classic/lr_auto/0.01-0.0001_0/'\n",
    "args = GlobalArguments()"
   ]
  },
  {
   "cell_type": "code",
   "execution_count": 3,
   "metadata": {},
   "outputs": [
    {
     "data": {
      "text/plain": [
       "ConvFCBase(\n",
       "  (conv_part): Sequential(\n",
       "    (0): Conv2d(3, 32, kernel_size=(5, 5), stride=(1, 1), padding=(2, 2))\n",
       "    (1): ReLU(inplace=True)\n",
       "    (2): MaxPool2d(kernel_size=3, stride=2, padding=0, dilation=1, ceil_mode=False)\n",
       "    (3): Conv2d(32, 64, kernel_size=(5, 5), stride=(1, 1), padding=(2, 2))\n",
       "    (4): ReLU(inplace=True)\n",
       "    (5): MaxPool2d(kernel_size=3, stride=2, padding=0, dilation=1, ceil_mode=False)\n",
       "    (6): Conv2d(64, 128, kernel_size=(5, 5), stride=(1, 1), padding=(2, 2))\n",
       "    (7): ReLU(inplace=True)\n",
       "    (8): MaxPool2d(kernel_size=3, stride=2, padding=0, dilation=1, ceil_mode=False)\n",
       "  )\n",
       "  (fc_part): Sequential(\n",
       "    (0): Linear(in_features=1152, out_features=1000, bias=True)\n",
       "    (1): ReLU(inplace=True)\n",
       "    (2): Linear(in_features=1000, out_features=1000, bias=True)\n",
       "    (3): ReLU(inplace=True)\n",
       "    (4): Linear(in_features=1000, out_features=100, bias=True)\n",
       "  )\n",
       ")"
      ]
     },
     "execution_count": 3,
     "metadata": {},
     "output_type": "execute_result"
    }
   ],
   "source": [
    "if   args.dataset == \"CIFAR10\":\n",
    "    num_classes = 10\n",
    "elif args.dataset == \"CIFAR100\":\n",
    "    num_classes = 100\n",
    "    \n",
    "architecture = getattr(models, args.model)\n",
    "model = architecture.base(num_classes=num_classes, **architecture.kwargs)\n",
    "checkpoint = torch.load(args.ckpt)\n",
    "model.load_state_dict(checkpoint['model_state'])\n",
    "model.cuda()"
   ]
  },
  {
   "cell_type": "code",
   "execution_count": 4,
   "metadata": {},
   "outputs": [
    {
     "name": "stdout",
     "output_type": "stream",
     "text": [
      "Files already downloaded and verified\n",
      "Initial logits :\n",
      "Shape : torch.Size([50000, 100]) Logits_mean : 0.0120527483522892\n",
      "Max : 203.48500061035156 Min : -91.90008544921875\n",
      "You are going to run models on the test set. Are you sure?\n",
      "Files already downloaded and verified\n"
     ]
    }
   ],
   "source": [
    "loaders, num_classes = data.loaders_gb(\n",
    "    args.dataset,\n",
    "    args.data_path,\n",
    "    args.batch_size,\n",
    "    args.num_workers,\n",
    "    args.transform,\n",
    "    args.use_test,\n",
    "    shuffle_train=False,\n",
    "    logits_generator=regularization.dataset_logits_generator(\n",
    "        model,\n",
    "        transform=getattr(getattr(data.Transforms, args.dataset), args.transform).train,\n",
    "        batch_size=args.batch_size),\n",
    ")"
   ]
  },
  {
   "cell_type": "code",
   "execution_count": 5,
   "metadata": {},
   "outputs": [
    {
     "name": "stderr",
     "output_type": "stream",
     "text": [
      "100%|██████████| 17/17 [00:00<00:00, 20.60it/s]\n"
     ]
    }
   ],
   "source": [
    "models_list_fge = []\n",
    "models_weights  = []\n",
    "# indicies = range (690, 1011, 20)\n",
    "indicies = [i for i in range (249, 1000, 50)]\n",
    "indicies.insert(0, 200)\n",
    "\n",
    "for i in tqdm(indicies):\n",
    "    model = architecture.base(num_classes=num_classes, **architecture.kwargs)\n",
    "    checkpoint = torch.load(args.boost_ckpts + 'fge-' + str(i) + '.pt', map_location=torch.device('cpu'))\n",
    "    model.load_state_dict(checkpoint['model_state'])\n",
    "    models_list_fge.append(model)\n",
    "    models_weights .append(checkpoint['boost_weight'])"
   ]
  },
  {
   "cell_type": "code",
   "execution_count": 6,
   "metadata": {},
   "outputs": [],
   "source": [
    "def outputs_target_labels(model, dataloader, device=torch.device('cpu')):\n",
    "    with torch.no_grad():\n",
    "        model.to(device)\n",
    "        target_list = []\n",
    "        output_list = []\n",
    "        labels_list = []\n",
    "        for input, labels, logits in dataloader:\n",
    "            input  = input .to(device)\n",
    "            logits = logits.to(device).detach()\n",
    "            labels = labels.to(device)\n",
    "\n",
    "            target = utils.one_hot(labels, logits.shape[1]) - F.softmax(logits, dim=1)\n",
    "            output = model(input)\n",
    "\n",
    "            output_list.append(output.cpu())\n",
    "            target_list.append(target.cpu())\n",
    "            labels_list.append(labels.cpu())\n",
    "\n",
    "        output_list = torch.cat(output_list, dim=0)\n",
    "        target_list = torch.cat(target_list, dim=0)\n",
    "        labels_list = torch.cat(labels_list, dim=0)\n",
    "    return output_list, target_list, labels_list\n",
    "\n",
    "def STD(tensor):\n",
    "    return ((tensor - tensor.mean(dim=0, keepdim=True))**2).mean().sqrt().item()\n",
    "\n",
    "def target_and_predicted_distributions(model_list, loaders, device=torch.device('cpu')):\n",
    "    table = {\n",
    "        'Iter'      : [],\n",
    "        'Weight'    : [],\n",
    "        'Trg_mean'  : [],\n",
    "        'Prd_mean'  : [],\n",
    "        'Trg_std'   : [],\n",
    "        'Prd_std'   : [],\n",
    "        'Mean_L1'   : [],\n",
    "        'Mean_L2'   : [],\n",
    "        'Train_acc' : [],\n",
    "        'Test_acc'  : [],\n",
    "        'Add_std_tr': [],\n",
    "        'Add_std_te': [],\n",
    "    }\n",
    "    criterion_L2 = torch.nn.MSELoss(reduction='none')\n",
    "    criterion_L1 = torch.nn.L1Loss(reduction='none')\n",
    "    \n",
    "    output_sum_train = 0.\n",
    "    output_sum_test  = 0.\n",
    "    \n",
    "    with torch.no_grad():\n",
    "        for iter in tqdm(range(len(model_list))):\n",
    "            model = model_list[0].eval().to(device)\n",
    "            \n",
    "            output_train, target_train, labels_train = outputs_target_labels(\n",
    "                model,\n",
    "                loaders['train'],\n",
    "                device=device)\n",
    "                \n",
    "            output_test, target_test, labels_test = outputs_target_labels(\n",
    "                model,\n",
    "                loaders['test'],\n",
    "                device=device)\n",
    "            \n",
    "            output_sum_train += models_weights[iter] * output_train\n",
    "            output_sum_test  += models_weights[iter] * output_test\n",
    "         \n",
    "            table['Iter'      ].append(iter)\n",
    "            table['Weight'    ].append(models_weights[iter])\n",
    "            table['Trg_mean'  ].append(target_test.mean().item())\n",
    "            table['Prd_mean'  ].append(output_test.mean().item())\n",
    "            table['Trg_std'   ].append(STD(target_test))\n",
    "            table['Prd_std'   ].append(STD(output_test))\n",
    "            table['Mean_L1'   ].append(criterion_L1(output_test, target_test).mean().item())\n",
    "            table['Mean_L2'   ].append(criterion_L2(output_test, target_test ).mean().item())\n",
    "            table['Train_acc' ].append(torch.eq(output_sum_train.argmax(dim=1), labels_train).float().mean().item())\n",
    "            table['Test_acc'  ].append(torch.eq(output_sum_test .argmax(dim=1), labels_test ).float().mean().item())\n",
    "            table['Add_std_tr'].append(STD(models_weights[iter] * output_train))\n",
    "            table['Add_std_te'].append(STD(models_weights[iter] * output_test))\n",
    "            \n",
    "  \n",
    "            loaders['train'].dataset.update_logits(\n",
    "                models_weights[iter],\n",
    "                logits_generator=regularization.dataset_logits_generator(\n",
    "                    model,\n",
    "                    transform=getattr(getattr(\n",
    "                            data.Transforms,\n",
    "                            args.dataset),\n",
    "                        args.transform).train,\n",
    "                    batch_size = args.batch_size))\n",
    "        \n",
    "            loaders['test'].dataset.update_logits(\n",
    "                models_weights[iter],\n",
    "                logits_generator=regularization.dataset_logits_generator(\n",
    "                    model,\n",
    "                    transform=getattr(getattr(\n",
    "                            data.Transforms,\n",
    "                            args.dataset),\n",
    "                        args.transform).test,\n",
    "                    batch_size = args.batch_size))\n",
    "            \n",
    "            del model\n",
    "            del model_list[0]\n",
    "    return table\n",
    "            \n",
    "            \n",
    "#         regularization.logits_info(dataloader.dataset.logits)"
   ]
  },
  {
   "cell_type": "code",
   "execution_count": 7,
   "metadata": {},
   "outputs": [
    {
     "name": "stderr",
     "output_type": "stream",
     "text": [
      "  0%|          | 0/17 [00:00<?, ?it/s]"
     ]
    },
    {
     "name": "stdout",
     "output_type": "stream",
     "text": [
      "I am updating logits\n",
      "I am updating logits\n"
     ]
    },
    {
     "name": "stderr",
     "output_type": "stream",
     "text": [
      "  6%|▌         | 1/17 [00:25<06:54, 25.89s/it]"
     ]
    },
    {
     "name": "stdout",
     "output_type": "stream",
     "text": [
      "I am updating logits\n",
      "I am updating logits\n"
     ]
    },
    {
     "name": "stderr",
     "output_type": "stream",
     "text": [
      " 12%|█▏        | 2/17 [00:52<06:30, 26.02s/it]"
     ]
    },
    {
     "name": "stdout",
     "output_type": "stream",
     "text": [
      "I am updating logits\n",
      "I am updating logits\n"
     ]
    },
    {
     "name": "stderr",
     "output_type": "stream",
     "text": [
      " 18%|█▊        | 3/17 [01:18<06:04, 26.02s/it]"
     ]
    },
    {
     "name": "stdout",
     "output_type": "stream",
     "text": [
      "I am updating logits\n",
      "I am updating logits\n"
     ]
    },
    {
     "name": "stderr",
     "output_type": "stream",
     "text": [
      " 24%|██▎       | 4/17 [01:44<05:39, 26.09s/it]"
     ]
    },
    {
     "name": "stdout",
     "output_type": "stream",
     "text": [
      "I am updating logits\n",
      "I am updating logits\n"
     ]
    },
    {
     "name": "stderr",
     "output_type": "stream",
     "text": [
      " 29%|██▉       | 5/17 [02:10<05:13, 26.16s/it]"
     ]
    },
    {
     "name": "stdout",
     "output_type": "stream",
     "text": [
      "I am updating logits\n",
      "I am updating logits\n"
     ]
    },
    {
     "name": "stderr",
     "output_type": "stream",
     "text": [
      " 35%|███▌      | 6/17 [02:36<04:45, 25.91s/it]"
     ]
    },
    {
     "name": "stdout",
     "output_type": "stream",
     "text": [
      "I am updating logits\n",
      "I am updating logits\n"
     ]
    },
    {
     "name": "stderr",
     "output_type": "stream",
     "text": [
      " 41%|████      | 7/17 [03:02<04:19, 25.93s/it]"
     ]
    },
    {
     "name": "stdout",
     "output_type": "stream",
     "text": [
      "I am updating logits\n",
      "I am updating logits\n"
     ]
    },
    {
     "name": "stderr",
     "output_type": "stream",
     "text": [
      " 47%|████▋     | 8/17 [03:28<03:54, 26.05s/it]"
     ]
    },
    {
     "name": "stdout",
     "output_type": "stream",
     "text": [
      "I am updating logits\n",
      "I am updating logits\n"
     ]
    },
    {
     "name": "stderr",
     "output_type": "stream",
     "text": [
      " 53%|█████▎    | 9/17 [03:55<03:31, 26.42s/it]"
     ]
    },
    {
     "name": "stdout",
     "output_type": "stream",
     "text": [
      "I am updating logits\n",
      "I am updating logits\n"
     ]
    },
    {
     "name": "stderr",
     "output_type": "stream",
     "text": [
      " 59%|█████▉    | 10/17 [04:23<03:08, 26.87s/it]"
     ]
    },
    {
     "name": "stdout",
     "output_type": "stream",
     "text": [
      "I am updating logits\n",
      "I am updating logits\n"
     ]
    },
    {
     "name": "stderr",
     "output_type": "stream",
     "text": [
      " 65%|██████▍   | 11/17 [04:51<02:43, 27.24s/it]"
     ]
    },
    {
     "name": "stdout",
     "output_type": "stream",
     "text": [
      "I am updating logits\n",
      "I am updating logits\n"
     ]
    },
    {
     "name": "stderr",
     "output_type": "stream",
     "text": [
      " 71%|███████   | 12/17 [05:18<02:15, 27.11s/it]"
     ]
    },
    {
     "name": "stdout",
     "output_type": "stream",
     "text": [
      "I am updating logits\n",
      "I am updating logits\n"
     ]
    },
    {
     "name": "stderr",
     "output_type": "stream",
     "text": [
      " 76%|███████▋  | 13/17 [05:44<01:46, 26.72s/it]"
     ]
    },
    {
     "name": "stdout",
     "output_type": "stream",
     "text": [
      "I am updating logits\n",
      "I am updating logits\n"
     ]
    },
    {
     "name": "stderr",
     "output_type": "stream",
     "text": [
      " 82%|████████▏ | 14/17 [06:09<01:19, 26.35s/it]"
     ]
    },
    {
     "name": "stdout",
     "output_type": "stream",
     "text": [
      "I am updating logits\n",
      "I am updating logits\n"
     ]
    },
    {
     "name": "stderr",
     "output_type": "stream",
     "text": [
      " 88%|████████▊ | 15/17 [06:34<00:51, 25.96s/it]"
     ]
    },
    {
     "name": "stdout",
     "output_type": "stream",
     "text": [
      "I am updating logits\n",
      "I am updating logits\n"
     ]
    },
    {
     "name": "stderr",
     "output_type": "stream",
     "text": [
      " 94%|█████████▍| 16/17 [07:00<00:25, 25.81s/it]"
     ]
    },
    {
     "name": "stdout",
     "output_type": "stream",
     "text": [
      "I am updating logits\n",
      "I am updating logits\n"
     ]
    },
    {
     "name": "stderr",
     "output_type": "stream",
     "text": [
      "100%|██████████| 17/17 [07:26<00:00, 26.25s/it]"
     ]
    },
    {
     "name": "stdout",
     "output_type": "stream",
     "text": [
      "+--------+---------------+-------------+--------------+-----------+--------------+------------+--------------+-------------+------------+--------------+--------------+\n",
      "|   Iter |        Weight |    Trg_mean |     Prd_mean |   Trg_std |      Prd_std |    Mean_L1 |      Mean_L2 |   Train_acc |   Test_acc |   Add_std_tr |   Add_std_te |\n",
      "+========+===============+=============+==============+===========+==============+============+==============+=============+============+==============+==============+\n",
      "|      0 |     1         | 1.67215e-09 |  0.0100058   | 0.0903834 | 11.0449      | 8.34595    | 127.565      |     0.999   |     0.533  | 10.2483      | 11.0449      |\n",
      "+--------+---------------+-------------+--------------+-----------+--------------+------------+--------------+-------------+------------+--------------+--------------+\n",
      "|      1 | 24395.5       | 2.94685e-10 | -7.43289e-11 | 0.091583  |  1.09438e-09 | 0.00911651 |   0.00838856 |     0.99898 |     0.5319 |  0.000167045 |  2.606e-05   |\n",
      "+--------+---------------+-------------+--------------+-----------+--------------+------------+--------------+-------------+------------+--------------+--------------+\n",
      "|      2 |    -0.260353  | 2.98023e-10 | -0.00268979  | 0.0916051 |  0.0157254   | 0.0433822  |   0.0103432  |     0.99898 |     0.5318 |  0.00432151  |  0.00409415  |\n",
      "+--------+---------------+-------------+--------------+-----------+--------------+------------+--------------+-------------+------------+--------------+--------------+\n",
      "|      3 |    -0.526634  | 2.91586e-10 |  0.00291612  | 0.0916057 |  0.0146963   | 0.043604   |   0.0101868  |     0.99898 |     0.5318 |  0.00828548  |  0.00773959  |\n",
      "+--------+---------------+-------------+--------------+-----------+--------------+------------+--------------+-------------+------------+--------------+--------------+\n",
      "|      4 |     0.331912  | 2.66671e-10 | -0.00351584  | 0.091605  |  0.0167963   | 0.0420655  |   0.0102202  |     0.999   |     0.5319 |  0.00571849  |  0.00557488  |\n",
      "+--------+---------------+-------------+--------------+-----------+--------------+------------+--------------+-------------+------------+--------------+--------------+\n",
      "|      5 |     0.353169  | 3.19362e-10 |  0.00491763  | 0.0916045 |  0.0154229   | 0.0410341  |   0.010137   |     0.999   |     0.5319 |  0.00575941  |  0.00544687  |\n",
      "+--------+---------------+-------------+--------------+-----------+--------------+------------+--------------+-------------+------------+--------------+--------------+\n",
      "|      6 |    -0.140958  | 2.88725e-10 | -0.00140699  | 0.0916059 |  0.0128361   | 0.0356441  |   0.00963858 |     0.999   |     0.5318 |  0.00193142  |  0.00180935  |\n",
      "+--------+---------------+-------------+--------------+-----------+--------------+------------+--------------+-------------+------------+--------------+--------------+\n",
      "|      7 |    -0.0176105 | 2.62022e-10 |  0.0024085   | 0.0916062 |  0.0175304   | 0.05003    |   0.01137    |     0.999   |     0.532  |  0.000328964 |  0.000308719 |\n",
      "+--------+---------------+-------------+--------------+-----------+--------------+------------+--------------+-------------+------------+--------------+--------------+\n",
      "|      8 |    -0.171479  | 2.84433e-10 | -0.00501116  | 0.0916061 |  0.0216752   | 0.0559345  |   0.0122088  |     0.999   |     0.532  |  0.00377339  |  0.00371684  |\n",
      "+--------+---------------+-------------+--------------+-----------+--------------+------------+--------------+-------------+------------+--------------+--------------+\n",
      "|      9 |    -2.18538   | 2.95877e-10 |  0.00721295  | 0.0916073 |  0.017535    | 0.0441953  |   0.0104207  |     0.99898 |     0.5323 |  0.0394174   |  0.0383207   |\n",
      "+--------+---------------+-------------+--------------+-----------+--------------+------------+--------------+-------------+------------+--------------+--------------+\n",
      "|     10 |     3.5799    | 3.02315e-10 | -0.0101252   | 0.0916149 |  0.0163249   | 0.0423315  |   0.0101942  |     0.99896 |     0.532  |  0.0596584   |  0.0584413   |\n",
      "+--------+---------------+-------------+--------------+-----------+--------------+------------+--------------+-------------+------------+--------------+--------------+\n",
      "|     11 |     0.344492  | 3.27826e-10 | -0.00241566  | 0.0916164 |  0.0155165   | 0.0466718  |   0.0107863  |     0.99898 |     0.5318 |  0.00585232  |  0.00534532  |\n",
      "+--------+---------------+-------------+--------------+-----------+--------------+------------+--------------+-------------+------------+--------------+--------------+\n",
      "|     12 |    -0.392978  | 3.06845e-10 |  5.44468e-05 | 0.0916176 |  0.0183975   | 0.0508989  |   0.0112538  |     0.99898 |     0.5325 |  0.00758199  |  0.00722981  |\n",
      "+--------+---------------+-------------+--------------+-----------+--------------+------------+--------------+-------------+------------+--------------+--------------+\n",
      "|     13 |    -0.365245  | 2.70724e-10 |  0.00233925  | 0.0916171 |  0.0182138   | 0.0482174  |   0.0107913  |     0.99898 |     0.5321 |  0.00675263  |  0.00665249  |\n",
      "+--------+---------------+-------------+--------------+-----------+--------------+------------+--------------+-------------+------------+--------------+--------------+\n",
      "|     14 |     0.0166096 | 2.87771e-10 | -0.000401052 | 0.0916196 |  0.0184127   | 0.0478744  |   0.0110017  |     0.99898 |     0.5321 |  0.000311841 |  0.000305829 |\n",
      "+--------+---------------+-------------+--------------+-----------+--------------+------------+--------------+-------------+------------+--------------+--------------+\n",
      "|     15 |    -0.613638  | 2.87175e-10 |  0.00582696  | 0.0916197 |  0.0170924   | 0.0473864  |   0.0108395  |     0.99896 |     0.5323 |  0.0109637   |  0.0104886   |\n",
      "+--------+---------------+-------------+--------------+-----------+--------------+------------+--------------+-------------+------------+--------------+--------------+\n",
      "|     16 |     0.208678  | 2.48432e-10 |  4.97849e-05 | 0.0916241 |  0.0157661   | 0.044031   |   0.0104726  |     0.99894 |     0.5322 |  0.0034861   |  0.00329003  |\n",
      "+--------+---------------+-------------+--------------+-----------+--------------+------------+--------------+-------------+------------+--------------+--------------+\n"
     ]
    },
    {
     "name": "stderr",
     "output_type": "stream",
     "text": [
      "\n"
     ]
    }
   ],
   "source": [
    "table = target_and_predicted_distributions(models_list_fge, loaders, device=torch.device('cuda:0'))\n",
    "print (tabulate.tabulate(table, headers='keys', tablefmt=\"grid\"))"
   ]
  },
  {
   "cell_type": "code",
   "execution_count": null,
   "metadata": {},
   "outputs": [],
   "source": []
  },
  {
   "cell_type": "code",
   "execution_count": 13,
   "metadata": {},
   "outputs": [],
   "source": [
    "def draw_grapfics(table):\n",
    "    fig, ((ax1, ax2), (ax3, ax4), (ax5, ax6)) = plt.subplots(\n",
    "    nrows=3, ncols=2,\n",
    "    figsize=(10, 15))\n",
    "    \n",
    "    ax1.plot(table['Iter'], np.array(table['Train_acc']) * 100, marker='o')\n",
    "    ax1.set_title('Train accuracy')\n",
    "    ax1.set_xlabel('Iter')\n",
    "    ax1.set_ylabel('Train accuracy')\n",
    "    \n",
    "    ax2.plot(table['Iter'], np.array(table['Test_acc']) * 100, marker='o')\n",
    "    ax2.set_title('Test accuracy')\n",
    "    ax2.set_xlabel('Iter')\n",
    "    ax2.set_ylabel('Test accuracy')\n",
    "    \n",
    "    ax3.plot(table['Iter'][1:], table['Mean_L1'][1:], marker='o')\n",
    "    ax3.set_title('Mean L1 on test')\n",
    "    ax3.set_xlabel('Iter')\n",
    "    ax3.set_ylabel('L1')\n",
    "    \n",
    "    ax4.plot(table['Iter'][1:], table['Mean_L2'][1:], marker='o')\n",
    "    ax4.set_title('Mean L2 on test')\n",
    "    ax4.set_xlabel('Iter')\n",
    "    ax4.set_ylabel('L2')\n",
    "    \n",
    "    ax5.plot(table['Iter'][1:], table['Weight'][1:], marker='o')\n",
    "    ax5.set_title('Weight in boosting')\n",
    "    ax5.set_xlabel('Iter')\n",
    "    ax5.set_ylabel('Weight')\n",
    "    \n",
    "    ax6.plot(table['Iter'][1:], table['Add_std_tr'][1:], marker='o')\n",
    "    ax6.set_title('Added STD')\n",
    "    ax6.set_xlabel('Iter')\n",
    "    ax6.set_ylabel('STD')"
   ]
  },
  {
   "cell_type": "code",
   "execution_count": 14,
   "metadata": {},
   "outputs": [
    {
     "name": "stdout",
     "output_type": "stream",
     "text": [
      "Lr : 0.01 - 0.0001\n"
     ]
    },
    {
     "data": {
      "image/png": "[encoded data removed]",
      "text/plain": [
       "<Figure size 720x1080 with 6 Axes>"
      ]
     },
     "metadata": {
      "needs_background": "light"
     },
     "output_type": "display_data"
    }
   ],
   "source": [
    "print ('Lr : 0.01 - 0.0001')\n",
    "draw_grapfics(table)"
   ]
  },
  {
   "cell_type": "code",
   "execution_count": null,
   "metadata": {},
   "outputs": [],
   "source": [
    "# def ensemble_models (model_list, dataloader, device=torch.device('cpu')):\n",
    "#     with torch.no_grad():\n",
    "#         predictions = []\n",
    "#         target = []\n",
    "#         n_models = len(model_list)\n",
    "\n",
    "#         for _, labels in dataloader:\n",
    "#             target.append(labels.detach())\n",
    "#         target = torch.cat(target, dim=0)\n",
    "\n",
    "#         for iter in tqdm(range(len(model_list))):\n",
    "#             model_device = model_list[0].eval().to(device)\n",
    "#             predictions.append([])\n",
    "#             for input, _ in dataloader:\n",
    "#                 input_device = input.to(device).detach()\n",
    "#                 predictions[iter].append(model_device(input_device).detach().cpu())\n",
    "#                 del input_device\n",
    "#             predictions[iter] = torch.cat(predictions[iter], dim=0)\n",
    "#             del model_device\n",
    "#             del model_list[0]\n",
    "\n",
    "\n",
    "#         sum_prediction = torch.zeros_like(predictions[0])\n",
    "#         acc_list = []\n",
    "#         ens_acc_list = []\n",
    "#         for prediction in tqdm(predictions):\n",
    "#             sum_prediction += prediction\n",
    "#             pred_labels     = prediction    .argmax(dim=1)\n",
    "#             ens_pred_labels = sum_prediction.argmax(dim=1)\n",
    "\n",
    "#             acc     = torch.eq(pred_labels    , target).sum().item() / len(target)\n",
    "#             ens_acc = torch.eq(ens_pred_labels, target).sum().item() / len(target)\n",
    "#             acc_list    .append(acc)\n",
    "#             ens_acc_list.append(ens_acc)\n",
    "        \n",
    "#     return acc_list, ens_acc_list"
   ]
  },
  {
   "cell_type": "code",
   "execution_count": null,
   "metadata": {},
   "outputs": [],
   "source": [
    "# torch.cuda.memory_summary(device=torch.device('cuda:0'))\n",
    "# torch.cuda.memory_snapshot()"
   ]
  },
  {
   "cell_type": "code",
   "execution_count": 11,
   "metadata": {},
   "outputs": [],
   "source": [
    "# cor_matrix = correlation.cross_entropy_Nmodels (needed_models, loaders['test'], torch.device('cpu'))"
   ]
  },
  {
   "cell_type": "code",
   "execution_count": 12,
   "metadata": {},
   "outputs": [],
   "source": [
    "# acc_list_ind, ens_acc_list_ind = ensemble_models(models_list_ind, loaders['train'], torch.device('cpu'))"
   ]
  },
  {
   "cell_type": "code",
   "execution_count": 13,
   "metadata": {},
   "outputs": [
    {
     "data": {
      "application/vnd.jupyter.widget-view+json": {
       "model_id": "b76dd2e3dc474ba1951a60e1292b1f0f",
       "version_major": 2,
       "version_minor": 0
      },
      "text/plain": [
       "HBox(children=(IntProgress(value=0, max=9), HTML(value='')))"
      ]
     },
     "metadata": {},
     "output_type": "display_data"
    },
    {
     "name": "stdout",
     "output_type": "stream",
     "text": [
      "\n"
     ]
    },
    {
     "data": {
      "application/vnd.jupyter.widget-view+json": {
       "model_id": "060f54211ed949d29f5abfeebb154a48",
       "version_major": 2,
       "version_minor": 0
      },
      "text/plain": [
       "HBox(children=(IntProgress(value=0, max=9), HTML(value='')))"
      ]
     },
     "metadata": {},
     "output_type": "display_data"
    },
    {
     "name": "stdout",
     "output_type": "stream",
     "text": [
      "\n"
     ]
    }
   ],
   "source": [
    "# acc_list_fge, ens_acc_list_fge = ensemble_models(models_list_fge, loaders['test'], torch.device('cuda:1'))"
   ]
  },
  {
   "cell_type": "code",
   "execution_count": 14,
   "metadata": {},
   "outputs": [],
   "source": [
    "# acc_list_fge_2, ens_acc_list_fge_2 = ensemble_models(models_list_fge_2, loaders['test'], torch.device('cuda:0'))"
   ]
  },
  {
   "cell_type": "code",
   "execution_count": 15,
   "metadata": {},
   "outputs": [],
   "source": [
    "# def plot (y_mas, time, savefig=None):\n",
    "\n",
    "#     fig, ax = plt.subplots()\n",
    "#     for iter, y in enumerate(y_mas):\n",
    "#         ax.plot(time, y, label=str(iter))\n",
    "\n",
    "#     ax.set(xlabel='Number of models', ylabel='Accuracy',\n",
    "#            title='Ensembling methods comparison')\n",
    "#     ax.grid()\n",
    "\n",
    "#     if savefig is not None:\n",
    "#         fig.savefig(savefig)\n",
    "#     plt.legend()\n",
    "#     plt.show()"
   ]
  },
  {
   "cell_type": "code",
   "execution_count": 16,
   "metadata": {},
   "outputs": [
    {
     "data": {
      "image/png": "[encoded data removed]",
      "text/plain": [
       "<Figure size 432x288 with 1 Axes>"
      ]
     },
     "metadata": {
      "needs_background": "light"
     },
     "output_type": "display_data"
    }
   ],
   "source": [
    "# plot ([acc_list_ind, acc_list_fge, ens_acc_list_ind, ens_acc_list_fge], np.arange(len(acc_list_ind)))\n",
    "# plot ([ens_acc_list_fge], np.arange(len(acc_list_fge)))\n",
    "# plot (\n",
    "#     [acc_list_fge,\n",
    "#      acc_list_fge_2,\n",
    "#      ens_acc_list_fge,\n",
    "#      ens_acc_list_fge_2],\n",
    "#     np.arange(len(acc_list_fge)))\n"
   ]
  },
  {
   "cell_type": "code",
   "execution_count": null,
   "metadata": {},
   "outputs": [],
   "source": [
    "\n"
   ]
  },
  {
   "cell_type": "code",
   "execution_count": null,
   "metadata": {},
   "outputs": [],
   "source": []
  }
 ],
 "metadata": {
  "kernelspec": {
   "display_name": "Python 3",
   "language": "python",
   "name": "python3"
  },
  "language_info": {
   "codemirror_mode": {
    "name": "ipython",
    "version": 3
   },
   "file_extension": ".py",
   "mimetype": "text/x-python",
   "name": "python",
   "nbconvert_exporter": "python",
   "pygments_lexer": "ipython3",
   "version": "3.7.4"
  }
 },
 "nbformat": 4,
 "nbformat_minor": 4
}
