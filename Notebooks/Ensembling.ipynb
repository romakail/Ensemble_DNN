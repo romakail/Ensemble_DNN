{
 "cells": [
  {
   "cell_type": "code",
   "execution_count": 1,
   "metadata": {},
   "outputs": [],
   "source": [
    "# System\n",
    "import os\n",
    "import sys\n",
    "import inspect\n",
    "import tabulate\n",
    "import time\n",
    "\n",
    "# Data processing\n",
    "import numpy as np\n",
    "import math as m\n",
    "\n",
    "# Results presentation\n",
    "from tqdm import tqdm as tqdm\n",
    "from IPython.display import clear_output\n",
    "import matplotlib\n",
    "import matplotlib.pyplot as plt\n",
    "\n",
    "# NN related stuff\n",
    "import torch\n",
    "import torch.nn as nn\n",
    "import torch.nn.functional as F\n",
    "from torch.utils.data import Dataset, DataLoader\n",
    "# from torch.autograd import Variable\n",
    "\n",
    "current_dir = os.path.dirname(os.path.abspath(inspect.getfile(inspect.currentframe())))\n",
    "parent_dir = os.path.dirname(current_dir)\n",
    "sys.path.insert(0, parent_dir) \n",
    "\n",
    "import data\n",
    "import models\n",
    "import utils\n",
    "import correlation\n",
    "import regularization\n",
    "\n",
    "\n",
    "%matplotlib inline"
   ]
  },
  {
   "cell_type": "code",
   "execution_count": 2,
   "metadata": {},
   "outputs": [],
   "source": [
    "class GlobalArguments():\n",
    "    \n",
    "    def __init__(self):\n",
    "        self.model       = 'vgg16_bn'\n",
    "        self.dataset     = 'CIFAR100'\n",
    "        self.data_path   = '../Data/'\n",
    "        self.batch_size  = 128\n",
    "        self.num_workers = 4\n",
    "        self.transform   = 'VGG'\n",
    "        self.use_test    = True\n",
    "        self.models_path = '../Checkpoints/'\n",
    "        self.n_models    = 21\n",
    "args = GlobalArguments()"
   ]
  },
  {
   "cell_type": "code",
   "execution_count": 3,
   "metadata": {},
   "outputs": [
    {
     "name": "stdout",
     "output_type": "stream",
     "text": [
      "Files already downloaded and verified\n",
      "You are going to run models on the test set. Are you sure?\n",
      "Files already downloaded and verified\n"
     ]
    }
   ],
   "source": [
    "loaders, num_classes = data.loaders(\n",
    "    args.dataset,\n",
    "    args.data_path,\n",
    "    args.batch_size,\n",
    "    args.num_workers,\n",
    "    args.transform,\n",
    "    args.use_test,\n",
    "    shuffle_train=False\n",
    ")"
   ]
  },
  {
   "cell_type": "code",
   "execution_count": 4,
   "metadata": {},
   "outputs": [],
   "source": [
    "architecture = getattr(models, args.model)"
   ]
  },
  {
   "cell_type": "code",
   "execution_count": 7,
   "metadata": {},
   "outputs": [
    {
     "name": "stderr",
     "output_type": "stream",
     "text": [
      "100%|██████████| 21/21 [02:00<00:00,  5.75s/it]\n"
     ]
    }
   ],
   "source": [
    "# models_list_ind = []\n",
    "# indicies = np.arange(args.n_models)\n",
    "# # np.random.shuffle(indicies[1:-1])\n",
    "\n",
    "# for i in tqdm(indicies):\n",
    "#     model = architecture.base(num_classes=num_classes, **architecture.kwargs)\n",
    "#     checkpoint = torch.load(\n",
    "#         '../Checkpoints/VGG16BN/CIFAR100_STEP200/' + str(i) + '/checkpoint-200.pt',\n",
    "#         map_location=torch.device('cpu'))\n",
    "# #     print (model)\n",
    "#     model.load_state_dict(checkpoint['model_state'])\n",
    "#     models_list_ind.append(model)"
   ]
  },
  {
   "cell_type": "code",
   "execution_count": 20,
   "metadata": {},
   "outputs": [
    {
     "name": "stderr",
     "output_type": "stream",
     "text": [
      "100%|██████████| 21/21 [02:02<00:00,  5.84s/it]\n"
     ]
    }
   ],
   "source": [
    "models_list_fge = []\n",
    "# indicies = range (690, 1011, 20)\n",
    "indicies = list(range (219, 619, 20))\n",
    "indicies.insert(0, 200)\n",
    "\n",
    "for i in tqdm(indicies):\n",
    "    model = architecture.base(num_classes=num_classes, **architecture.kwargs)\n",
    "    checkpoint = torch.load('../Checkpoints/FGE/CIFAR100/VGG16BN/common/0/fge-' + str(i) + '.pt', map_location=torch.device('cpu'))\n",
    "    model.load_state_dict(checkpoint['model_state'])\n",
    "    models_list_fge.append(model)"
   ]
  },
  {
   "cell_type": "code",
   "execution_count": 21,
   "metadata": {},
   "outputs": [],
   "source": [
    "# models_list_fge_2 = []\n",
    "# # indicies = range (690, 1011, 20)\n",
    "# indicies = range (219, 749, 20)\n",
    "\n",
    "# for i in tqdm(indicies):\n",
    "#     model = architecture.base(num_classes=num_classes, **architecture.kwargs)\n",
    "#     checkpoint = torch.load('./Checkpoints/FGE/new/VGG16BN/weight_adaboost/coef0.2_nocorrect_0//fge-' + str(i) + '.pt', map_location=torch.device('cpu'))\n",
    "# #     print (model)\n",
    "#     model.load_state_dict(checkpoint['model_state'])\n",
    "#     models_list_fge_2.append(model)"
   ]
  },
  {
   "cell_type": "code",
   "execution_count": 22,
   "metadata": {},
   "outputs": [],
   "source": [
    "# len(models_list_fge)\n",
    "# len(models_list_fge_2)\n"
   ]
  },
  {
   "cell_type": "code",
   "execution_count": 23,
   "metadata": {},
   "outputs": [],
   "source": [
    "def ensemble_models (model_list, dataloader, device=torch.device('cpu'), adjust_weight=False):\n",
    "    with torch.no_grad():\n",
    "        predictions = []\n",
    "        target = []\n",
    "        n_models = len(model_list)\n",
    "\n",
    "        for _, labels in dataloader:\n",
    "            target.append(labels.detach())\n",
    "        target = torch.cat(target, dim=0)\n",
    "\n",
    "        for iter in tqdm(range(len(model_list))):\n",
    "            model_device = model_list[0].eval().to(device)\n",
    "            predictions.append([])\n",
    "            for input, _ in dataloader:\n",
    "                input_device = input.to(device).detach()\n",
    "                predictions[iter].append(model_device(input_device).detach().cpu())\n",
    "                del input_device\n",
    "            predictions[iter] = torch.cat(predictions[iter], dim=0)\n",
    "            del model_device\n",
    "            del model_list[0]\n",
    "\n",
    "        sum_prediction = torch.zeros_like(predictions[0])\n",
    "        acc_list = []\n",
    "        ens_acc_list = []\n",
    "        for prediction in tqdm(predictions):\n",
    "            if adjust_weight:\n",
    "                lr = regularization.adjust_boost_lr(dataloader, )\n",
    "            else:\n",
    "                lr = 1.\n",
    "            sum_prediction += lr * prediction\n",
    "            pred_labels     = prediction    .argmax(dim=1)\n",
    "            ens_pred_labels = sum_prediction.argmax(dim=1)\n",
    "\n",
    "            acc     = torch.eq(pred_labels    , target).sum().item() / len(target)\n",
    "            ens_acc = torch.eq(ens_pred_labels, target).sum().item() / len(target)\n",
    "            acc_list    .append(acc)\n",
    "            ens_acc_list.append(ens_acc)\n",
    "        \n",
    "    return acc_list, ens_acc_list"
   ]
  },
  {
   "cell_type": "code",
   "execution_count": 24,
   "metadata": {},
   "outputs": [],
   "source": [
    "# torch.cuda.memory_summary(device=torch.device('cuda:0'))\n",
    "# torch.cuda.memory_snapshot()"
   ]
  },
  {
   "cell_type": "code",
   "execution_count": 25,
   "metadata": {},
   "outputs": [],
   "source": [
    "# cor_matrix = correlation.cross_entropy_Nmodels (needed_models, loaders['test'], torch.device('cpu'))"
   ]
  },
  {
   "cell_type": "code",
   "execution_count": 26,
   "metadata": {},
   "outputs": [],
   "source": [
    "# acc_list_ind, ens_acc_list_ind = ensemble_models(models_list_ind, loaders['test'], torch.device('cuda:0'))"
   ]
  },
  {
   "cell_type": "code",
   "execution_count": 27,
   "metadata": {},
   "outputs": [
    {
     "name": "stderr",
     "output_type": "stream",
     "text": [
      "100%|██████████| 21/21 [01:07<00:00,  3.20s/it]\n",
      "100%|██████████| 21/21 [00:00<00:00, 181.42it/s]\n"
     ]
    }
   ],
   "source": [
    "acc_list_fge, ens_acc_list_fge = ensemble_models(models_list_fge, loaders['test'], torch.device('cuda:0'))"
   ]
  },
  {
   "cell_type": "code",
   "execution_count": 28,
   "metadata": {},
   "outputs": [],
   "source": [
    "# acc_list_fge_2, ens_acc_list_fge_2 = ensemble_models(models_list_fge_2, loaders['test'], torch.device('cuda:0'))"
   ]
  },
  {
   "cell_type": "code",
   "execution_count": 102,
   "metadata": {},
   "outputs": [],
   "source": [
    "def plot (y_mas, time, savefig=None):\n",
    "\n",
    "    fig, ax = plt.subplots()\n",
    "    for iter, y in enumerate(y_mas):\n",
    "        ax.plot(time, y, label=str(iter), marker='o', mec='k', mfc=(0, 0, 0, 0))\n",
    "\n",
    "    ax.set(xlabel='Number of models', ylabel='Accuracy',\n",
    "           title='Ensembling methods comparison')\n",
    "    ax.grid()\n",
    "\n",
    "    if savefig is not None:\n",
    "        fig.savefig(savefig, dpi=400)\n",
    "    plt.legend()\n",
    "    plt.show()"
   ]
  },
  {
   "cell_type": "code",
   "execution_count": 104,
   "metadata": {},
   "outputs": [
    {
     "data": {
      "image/png": "[encoded data removed]",
      "text/plain": [
       "<Figure size 432x288 with 1 Axes>"
      ]
     },
     "metadata": {
      "needs_background": "light"
     },
     "output_type": "display_data"
    }
   ],
   "source": [
    "# plot ([acc_list_ind, acc_list_fge, ens_acc_list_ind, ens_acc_list_fge], np.arange(len(acc_list_ind)))\n",
    "# plot ([ens_acc_list_fge], np.arange(len(acc_list_fge)))\n",
    "\n",
    "plot (\n",
    "    [acc_list_ind,\n",
    "     ens_acc_list_ind,\n",
    "     acc_list_fge,\n",
    "     ens_acc_list_fge],\n",
    "    np.arange(len(acc_list_fge)),\n",
    "    savefig='figures/indepVSFGE')\n",
    "\n",
    "# plot (\n",
    "#     [ens_acc_list_ind,\n",
    "#      ens_acc_list_fge],\n",
    "#     np.arange(len(acc_list_fge)),\n",
    "#     savefig='figures/indepVSFGE')\n",
    "\n",
    "# plot (\n",
    "#     [acc_list_ind,\n",
    "#      ens_acc_list_ind],\n",
    "#     np.arange(len(acc_list_ind)))\n",
    "\n",
    "# plot (\n",
    "#     [acc_list_fge,\n",
    "#      ens_acc_list_fge],\n",
    "#     np.arange(len(acc_list_ind)))"
   ]
  },
  {
   "cell_type": "code",
   "execution_count": null,
   "metadata": {},
   "outputs": [],
   "source": [
    "\n"
   ]
  },
  {
   "cell_type": "code",
   "execution_count": null,
   "metadata": {},
   "outputs": [],
   "source": []
  }
 ],
 "metadata": {
  "kernelspec": {
   "display_name": "Python 3",
   "language": "python",
   "name": "python3"
  },
  "language_info": {
   "codemirror_mode": {
    "name": "ipython",
    "version": 3
   },
   "file_extension": ".py",
   "mimetype": "text/x-python",
   "name": "python",
   "nbconvert_exporter": "python",
   "pygments_lexer": "ipython3",
   "version": "3.7.4"
  }
 },
 "nbformat": 4,
 "nbformat_minor": 4
}
