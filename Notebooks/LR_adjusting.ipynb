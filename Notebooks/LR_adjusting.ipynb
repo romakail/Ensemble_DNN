{
 "cells": [
  {
   "cell_type": "code",
   "execution_count": 1,
   "metadata": {},
   "outputs": [],
   "source": [
    "# System\n",
    "import os\n",
    "import sys\n",
    "import inspect\n",
    "import tabulate\n",
    "import time\n",
    "\n",
    "# Data processing\n",
    "import numpy as np\n",
    "import math as m\n",
    "\n",
    "# Results presentation\n",
    "from tqdm import tqdm as tqdm\n",
    "from IPython.display import clear_output\n",
    "import matplotlib\n",
    "import matplotlib.pyplot as plt\n",
    "\n",
    "# NN related stuff\n",
    "import torch\n",
    "import torch.nn as nn\n",
    "import torch.nn.functional as F\n",
    "from torch.utils.data import Dataset, DataLoader\n",
    "\n",
    "current_dir = os.path.dirname(os.path.abspath(inspect.getfile(inspect.currentframe())))\n",
    "parent_dir = os.path.dirname(current_dir)\n",
    "sys.path.insert(0, parent_dir) \n",
    "\n",
    "import data\n",
    "import models\n",
    "import utils\n",
    "import correlation\n",
    "import regularization\n",
    "\n",
    "%matplotlib inline"
   ]
  },
  {
   "cell_type": "code",
   "execution_count": 2,
   "metadata": {},
   "outputs": [],
   "source": [
    "class GlobalArguments():\n",
    "    \n",
    "    def __init__(self):\n",
    "        self.model       = 'ConvFCSimple'\n",
    "        self.model2      = 'ConvFCSimpleTanh'\n",
    "        self.dataset     = 'CIFAR100'\n",
    "        self.data_path   = '../Data/'\n",
    "        self.batch_size  = 128\n",
    "        self.num_workers = 4\n",
    "        self.transform   = 'VGG'\n",
    "        self.use_test    = True\n",
    "        self.models_path = 'Checkpoints/'\n",
    "        self.n_models    = 40\n",
    "#         self.boost_ckpts = '../Checkpoints/test/'\n",
    "#         self.new_model   = '../Checkpoints/test/fge-399.pt'\n",
    "        self.boost_ckpts = '../Checkpoints/FGE/CIFAR100/ConvFCSimpleTanh/ind_gb/classic/0/'\n",
    "        self.new_model   = '../Checkpoints/FGE/CIFAR100/ConvFCSimpleTanh/ind_gb/classic/0/fge-399.pt'\n",
    "        self.device      = 1\n",
    "args = GlobalArguments()"
   ]
  },
  {
   "cell_type": "code",
   "execution_count": 3,
   "metadata": {},
   "outputs": [],
   "source": [
    "device = 'cuda:' + str(args.device) if torch.cuda.is_available() else 'cpu'\n",
    "torch.cuda.set_device(device)"
   ]
  },
  {
   "cell_type": "code",
   "execution_count": 4,
   "metadata": {},
   "outputs": [],
   "source": [
    "if   args.dataset == \"CIFAR10\":\n",
    "    num_classes = 10\n",
    "elif args.dataset == \"CIFAR100\":\n",
    "    num_classes = 100\n",
    "\n",
    "architecture  = getattr(models, args.model)\n",
    "architecture2 = getattr(models, args.model2)"
   ]
  },
  {
   "cell_type": "code",
   "execution_count": 5,
   "metadata": {},
   "outputs": [
    {
     "name": "stderr",
     "output_type": "stream",
     "text": [
      "100%|██████████| 1/1 [00:00<00:00, 81.03it/s]"
     ]
    },
    {
     "name": "stdout",
     "output_type": "stream",
     "text": [
      "[200]\n"
     ]
    },
    {
     "name": "stderr",
     "output_type": "stream",
     "text": [
      "\n"
     ]
    }
   ],
   "source": [
    "ens_models = []\n",
    "models_weights  = []\n",
    "# indicies = range (690, 1011, 20)\n",
    "# indicies = [i for i in range (349, 2600, 150)]\n",
    "# indicies.insert(0, 200)\n",
    "indicies = [200]\n",
    "print (indicies)\n",
    "\n",
    "for i in tqdm(indicies):\n",
    "    model = architecture.base(num_classes=num_classes, **architecture.kwargs)\n",
    "    checkpoint = torch.load(args.boost_ckpts + 'fge-' + str(i) + '.pt', map_location=torch.device('cpu'))\n",
    "    model.load_state_dict(checkpoint['model_state'])\n",
    "    ens_models.append(model)\n",
    "    models_weights .append(checkpoint['boost_weight'])"
   ]
  },
  {
   "cell_type": "code",
   "execution_count": 6,
   "metadata": {},
   "outputs": [
    {
     "name": "stdout",
     "output_type": "stream",
     "text": [
      "Files already downloaded and verified\n",
      "Initial logits :\n",
      "Shape : torch.Size([50000, 100]) Logits_mean : 0.031225040555000305\n",
      "Max : 26.80453109741211 Min : -28.39893341064453\n",
      "You are going to run models on the test set. Are you sure?\n",
      "Files already downloaded and verified\n"
     ]
    }
   ],
   "source": [
    "loaders, num_classes = data.loaders_gb(\n",
    "    args.dataset,\n",
    "    args.data_path,\n",
    "    args.batch_size,\n",
    "    args.num_workers,\n",
    "    args.transform,\n",
    "    args.use_test,\n",
    "    shuffle_train=False,\n",
    "    logits_generator=regularization.dataset_logits_generator(\n",
    "        ens_models[0].cuda(),\n",
    "        transform=getattr(getattr(data.Transforms, args.dataset), args.transform).train,\n",
    "        batch_size=args.batch_size),\n",
    ")\n",
    "assert models_weights[0] == 1."
   ]
  },
  {
   "cell_type": "code",
   "execution_count": 7,
   "metadata": {},
   "outputs": [
    {
     "name": "stderr",
     "output_type": "stream",
     "text": [
      "0it [00:00, ?it/s]\n"
     ]
    }
   ],
   "source": [
    "for iter in tqdm(range(1, len(ens_models))):\n",
    "    loaders['train'].dataset.update_logits(\n",
    "        models_weights[iter],\n",
    "        logits_generator=regularization.dataset_logits_generator(\n",
    "            ens_models[iter].cuda(),\n",
    "            transform=getattr(getattr(\n",
    "                    data.Transforms,\n",
    "                    args.dataset),\n",
    "                args.transform).train,\n",
    "            batch_size = args.batch_size))\n",
    "        \n",
    "    loaders['test'].dataset.update_logits(\n",
    "        models_weights[iter],\n",
    "        logits_generator=regularization.dataset_logits_generator(\n",
    "            ens_models[iter].cuda(),\n",
    "            transform=getattr(getattr(\n",
    "                    data.Transforms,\n",
    "                    args.dataset),\n",
    "                args.transform).test,\n",
    "            batch_size = args.batch_size))"
   ]
  },
  {
   "cell_type": "code",
   "execution_count": 8,
   "metadata": {},
   "outputs": [],
   "source": [
    "# architecture = getattr(models, args.model)\n",
    "# architecture = getattr(models, \"vgg16_bn\")\n",
    "\n",
    "new_model = architecture2.base(num_classes=num_classes, **architecture.kwargs)\n",
    "checkpoint = torch.load(args.new_model, map_location=torch.device('cpu'))\n",
    "new_model.load_state_dict(checkpoint['model_state'])\n",
    "new_model_weight = checkpoint['boost_weight']"
   ]
  },
  {
   "cell_type": "code",
   "execution_count": 9,
   "metadata": {},
   "outputs": [],
   "source": [
    "def L2_norm(vec):\n",
    "    return torch.sqrt(torch.sum(vec * vec))\n",
    "\n",
    "def cosine(vec1, vec2):\n",
    "    assert vec1.shape == vec2.shape\n",
    "    cosine = torch.dot(vec1.view(-1), vec2.view(-1))\n",
    "    return cosine / L2_norm(vec1.view(-1)) / L2_norm(vec2.view(-1))\n",
    "\n",
    "def outputs_logits_labels(model, dataloader, device=torch.device('cpu')):\n",
    "    with torch.no_grad():\n",
    "        model.to(device)\n",
    "        output_list = []\n",
    "        logits_list = []\n",
    "        labels_list = []\n",
    "        antigr_list = []\n",
    "        for input, labels, logits in dataloader:\n",
    "            input  = input .to(device)\n",
    "            logits = logits.to(device)\n",
    "            labels = labels.to(device)\n",
    "\n",
    "            antigr = utils.one_hot(labels, logits.shape[1]) - F.softmax(logits, dim=1)\n",
    "            output = model(input)\n",
    "\n",
    "            output_list.append(output.cpu())\n",
    "            logits_list.append(logits.cpu())\n",
    "            labels_list.append(labels.cpu())\n",
    "            antigr_list.append(antigr.cpu())\n",
    "\n",
    "        output_list = torch.cat(output_list, dim=0)\n",
    "        logits_list = torch.cat(logits_list, dim=0)\n",
    "        labels_list = torch.cat(labels_list, dim=0)\n",
    "        antigr_list = torch.cat(antigr_list, dim=0)\n",
    "    return output_list, logits_list, labels_list, antigr_list\n",
    "\n",
    "def loss_acc_dependency (model, dataloader, device=torch.device('cpu'), start_pow=-6, fin_pow=3, n_dots=1000):\n",
    "    criterion = torch.nn.CrossEntropyLoss()\n",
    "    output_train, logits_train, labels_train, antigr_train = outputs_logits_labels(\n",
    "        model,\n",
    "        loaders['train'],\n",
    "        device=device)\n",
    "                \n",
    "    output_test, logits_test, labels_test, antigr_test = outputs_logits_labels(\n",
    "        model,\n",
    "        loaders['test'],\n",
    "        device=device)\n",
    "    \n",
    "    res = {}\n",
    "    res[\"cos_train\"] = cosine(output_train, antigr_train)\n",
    "    res[\"cos_test\"]  = cosine(output_test , antigr_test )\n",
    "    res[\"coefs\"] = 10 ** np.linspace(start_pow, fin_pow, n_dots)\n",
    "    res[\"train_loss\"] = []\n",
    "    res[\"test_loss\"]  = []\n",
    "    res[\"train_gr_loss\"] = []\n",
    "    res[\"test_gr_loss\"] = []\n",
    "    res[\"train_acc\"]  = []\n",
    "    res[\"test_acc\"]   = []\n",
    "    \n",
    "    with torch.no_grad():\n",
    "        for coef in tqdm(res[\"coefs\"]):\n",
    "            pred_train = logits_train + coef * output_train\n",
    "            pred_test  = logits_test  + coef * output_test\n",
    "            pred_gr_train = logits_train + coef * antigr_train\n",
    "            pred_gr_test  = logits_test  + coef * antigr_test\n",
    "            \n",
    "            res[\"train_loss\"].append(\n",
    "                criterion(pred_train, labels_train).item())\n",
    "            res[\"test_loss\"].append(\n",
    "                criterion(pred_test , labels_test ).item())\n",
    "            res[\"train_gr_loss\"].append(\n",
    "                criterion(pred_gr_train, labels_train).item())\n",
    "            res[\"test_gr_loss\"].append(\n",
    "                criterion(pred_gr_test , labels_test).item())\n",
    "            res[\"train_acc\"].append(\n",
    "                torch.eq(pred_train.argmax(dim=1), labels_train).float().mean().item())\n",
    "            res[\"test_acc\"].append(\n",
    "                torch.eq(pred_test .argmax(dim=1), labels_test) .float().mean().item())\n",
    "    return res\n",
    "\n",
    "\n",
    "        "
   ]
  },
  {
   "cell_type": "code",
   "execution_count": 10,
   "metadata": {},
   "outputs": [],
   "source": [
    "def draw_figures(table, predicted=None, filename=None):\n",
    "    fig, ((ax1, ax2), (ax3, ax4), (ax5, ax6)) = plt.subplots(\n",
    "    nrows=3, ncols=2,\n",
    "    figsize=(10, 15))\n",
    "    \n",
    "    print (\"Cosine train :\", table[\"cos_train\"])\n",
    "    print (\"Cosine test  :\", table[\"cos_test\" ])\n",
    "    ax1.plot(table['coefs'], table['train_loss'])\n",
    "    ax1.set_title('Train Loss')\n",
    "    ax1.set_xlabel('Boost_lr')\n",
    "#     ax1.set_ylabel('Train Loss')\n",
    "    ax1.set_xscale('log')\n",
    "    if predicted is not None:\n",
    "        ax1.axvline(predicted, c='r')\n",
    "    \n",
    "    ax2.plot(table['coefs'], table['test_loss'])\n",
    "    ax2.set_title('Test Loss')\n",
    "    ax2.set_xlabel('Boost_lr')\n",
    "#     ax2.set_ylabel('Test Loss')\n",
    "    ax2.set_xscale('log')\n",
    "    if predicted is not None:\n",
    "        ax2.axvline(predicted, c='r')\n",
    "    \n",
    "    ax3.plot(table['coefs'], table['train_gr_loss'])\n",
    "    ax3.set_title('Train Grad Loss')\n",
    "    ax3.set_xlabel('Boost_lr')\n",
    "#     ax3.set_ylabel('Train accuracy')\n",
    "    ax3.set_xscale('log')\n",
    "    if predicted is not None:\n",
    "        ax3.axvline(predicted, c='r')\n",
    "    \n",
    "    ax4.plot(table['coefs'], table['test_gr_loss'])\n",
    "    ax4.set_title('Test Grad Loss')\n",
    "    ax4.set_xlabel('Boost_lr')\n",
    "#     ax4.set_ylabel('Test accuracy')\n",
    "    ax4.set_xscale('log')\n",
    "    if predicted is not None:\n",
    "        ax4.axvline(predicted, c='r')\n",
    "        \n",
    "    ax5.plot(table['coefs'], table['train_acc'])\n",
    "    ax5.set_title('Train accuracy')\n",
    "    ax5.set_xlabel('Boost_lr')\n",
    "#     ax3.set_ylabel('Train accuracy')\n",
    "    ax5.set_xscale('log')\n",
    "    if predicted is not None:\n",
    "        ax5.axvline(predicted, c='r')\n",
    "    \n",
    "    ax6.plot(table['coefs'], table['test_acc'])\n",
    "    ax6.set_title('Test accuracy')\n",
    "    ax6.set_xlabel('Boost_lr')\n",
    "#     ax4.set_ylabel('Test accuracy')\n",
    "    ax6.set_xscale('log')\n",
    "    if predicted is not None:\n",
    "        ax6.axvline(predicted, c='r')\n",
    "    \n",
    "    if filename is not None:\n",
    "        plt.savefig(filename + '.png')"
   ]
  },
  {
   "cell_type": "code",
   "execution_count": 11,
   "metadata": {},
   "outputs": [
    {
     "name": "stderr",
     "output_type": "stream",
     "text": [
      "100%|██████████| 1000/1000 [00:34<00:00, 28.78it/s]\n"
     ]
    }
   ],
   "source": [
    "table = loss_acc_dependency(new_model, loaders, device=torch.device('cuda'), start_pow=-0, fin_pow=2.5)"
   ]
  },
  {
   "cell_type": "code",
   "execution_count": 12,
   "metadata": {},
   "outputs": [
    {
     "name": "stdout",
     "output_type": "stream",
     "text": [
      "17.658540725708008\n",
      "Cosine train : tensor(0.0018)\n",
      "Cosine test  : tensor(0.0030)\n"
     ]
    },
    {
     "data": {
      "image/png": "[encoded data removed]",
      "text/plain": [
       "<Figure size 720x1080 with 6 Axes>"
      ]
     },
     "metadata": {
      "needs_background": "light"
     },
     "output_type": "display_data"
    }
   ],
   "source": [
    "print(new_model_weight)\n",
    "draw_figures(table, predicted=new_model_weight, filename='figures/LRdep_TLN_ingGB_200')"
   ]
  },
  {
   "cell_type": "code",
   "execution_count": 13,
   "metadata": {},
   "outputs": [
    {
     "ename": "FileNotFoundError",
     "evalue": "[Errno 2] No such file or directory: '../Checkpoints/FGE/CIFAR100/ConvFCSimpleTanh/ind_gb/classic/0//boost_lr/99.pt'",
     "output_type": "error",
     "traceback": [
      "\u001b[0;31m---------------------------------------------------------------------------\u001b[0m",
      "\u001b[0;31mFileNotFoundError\u001b[0m                         Traceback (most recent call last)",
      "\u001b[0;32m<ipython-input-13-27092e5d4756>\u001b[0m in \u001b[0;36m<module>\u001b[0;34m\u001b[0m\n\u001b[0;32m----> 1\u001b[0;31m \u001b[0madj_process\u001b[0m \u001b[0;34m=\u001b[0m \u001b[0mtorch\u001b[0m\u001b[0;34m.\u001b[0m\u001b[0mload\u001b[0m\u001b[0;34m(\u001b[0m\u001b[0margs\u001b[0m\u001b[0;34m.\u001b[0m\u001b[0mboost_ckpts\u001b[0m \u001b[0;34m+\u001b[0m \u001b[0;34m'/boost_lr/99.pt'\u001b[0m\u001b[0;34m)\u001b[0m\u001b[0;34m\u001b[0m\u001b[0;34m\u001b[0m\u001b[0m\n\u001b[0m",
      "\u001b[0;32m/opt/conda/lib/python3.7/site-packages/torch/serialization.py\u001b[0m in \u001b[0;36mload\u001b[0;34m(f, map_location, pickle_module, **pickle_load_args)\u001b[0m\n\u001b[1;32m    582\u001b[0m         \u001b[0mpickle_load_args\u001b[0m\u001b[0;34m[\u001b[0m\u001b[0;34m'encoding'\u001b[0m\u001b[0;34m]\u001b[0m \u001b[0;34m=\u001b[0m \u001b[0;34m'utf-8'\u001b[0m\u001b[0;34m\u001b[0m\u001b[0;34m\u001b[0m\u001b[0m\n\u001b[1;32m    583\u001b[0m \u001b[0;34m\u001b[0m\u001b[0m\n\u001b[0;32m--> 584\u001b[0;31m     \u001b[0;32mwith\u001b[0m \u001b[0m_open_file_like\u001b[0m\u001b[0;34m(\u001b[0m\u001b[0mf\u001b[0m\u001b[0;34m,\u001b[0m \u001b[0;34m'rb'\u001b[0m\u001b[0;34m)\u001b[0m \u001b[0;32mas\u001b[0m \u001b[0mopened_file\u001b[0m\u001b[0;34m:\u001b[0m\u001b[0;34m\u001b[0m\u001b[0;34m\u001b[0m\u001b[0m\n\u001b[0m\u001b[1;32m    585\u001b[0m         \u001b[0;32mif\u001b[0m \u001b[0m_is_zipfile\u001b[0m\u001b[0;34m(\u001b[0m\u001b[0mopened_file\u001b[0m\u001b[0;34m)\u001b[0m\u001b[0;34m:\u001b[0m\u001b[0;34m\u001b[0m\u001b[0;34m\u001b[0m\u001b[0m\n\u001b[1;32m    586\u001b[0m             \u001b[0;32mwith\u001b[0m \u001b[0m_open_zipfile_reader\u001b[0m\u001b[0;34m(\u001b[0m\u001b[0mf\u001b[0m\u001b[0;34m)\u001b[0m \u001b[0;32mas\u001b[0m \u001b[0mopened_zipfile\u001b[0m\u001b[0;34m:\u001b[0m\u001b[0;34m\u001b[0m\u001b[0;34m\u001b[0m\u001b[0m\n",
      "\u001b[0;32m/opt/conda/lib/python3.7/site-packages/torch/serialization.py\u001b[0m in \u001b[0;36m_open_file_like\u001b[0;34m(name_or_buffer, mode)\u001b[0m\n\u001b[1;32m    232\u001b[0m \u001b[0;32mdef\u001b[0m \u001b[0m_open_file_like\u001b[0m\u001b[0;34m(\u001b[0m\u001b[0mname_or_buffer\u001b[0m\u001b[0;34m,\u001b[0m \u001b[0mmode\u001b[0m\u001b[0;34m)\u001b[0m\u001b[0;34m:\u001b[0m\u001b[0;34m\u001b[0m\u001b[0;34m\u001b[0m\u001b[0m\n\u001b[1;32m    233\u001b[0m     \u001b[0;32mif\u001b[0m \u001b[0m_is_path\u001b[0m\u001b[0;34m(\u001b[0m\u001b[0mname_or_buffer\u001b[0m\u001b[0;34m)\u001b[0m\u001b[0;34m:\u001b[0m\u001b[0;34m\u001b[0m\u001b[0;34m\u001b[0m\u001b[0m\n\u001b[0;32m--> 234\u001b[0;31m         \u001b[0;32mreturn\u001b[0m \u001b[0m_open_file\u001b[0m\u001b[0;34m(\u001b[0m\u001b[0mname_or_buffer\u001b[0m\u001b[0;34m,\u001b[0m \u001b[0mmode\u001b[0m\u001b[0;34m)\u001b[0m\u001b[0;34m\u001b[0m\u001b[0;34m\u001b[0m\u001b[0m\n\u001b[0m\u001b[1;32m    235\u001b[0m     \u001b[0;32melse\u001b[0m\u001b[0;34m:\u001b[0m\u001b[0;34m\u001b[0m\u001b[0;34m\u001b[0m\u001b[0m\n\u001b[1;32m    236\u001b[0m         \u001b[0;32mif\u001b[0m \u001b[0;34m'w'\u001b[0m \u001b[0;32min\u001b[0m \u001b[0mmode\u001b[0m\u001b[0;34m:\u001b[0m\u001b[0;34m\u001b[0m\u001b[0;34m\u001b[0m\u001b[0m\n",
      "\u001b[0;32m/opt/conda/lib/python3.7/site-packages/torch/serialization.py\u001b[0m in \u001b[0;36m__init__\u001b[0;34m(self, name, mode)\u001b[0m\n\u001b[1;32m    213\u001b[0m \u001b[0;32mclass\u001b[0m \u001b[0m_open_file\u001b[0m\u001b[0;34m(\u001b[0m\u001b[0m_opener\u001b[0m\u001b[0;34m)\u001b[0m\u001b[0;34m:\u001b[0m\u001b[0;34m\u001b[0m\u001b[0;34m\u001b[0m\u001b[0m\n\u001b[1;32m    214\u001b[0m     \u001b[0;32mdef\u001b[0m \u001b[0m__init__\u001b[0m\u001b[0;34m(\u001b[0m\u001b[0mself\u001b[0m\u001b[0;34m,\u001b[0m \u001b[0mname\u001b[0m\u001b[0;34m,\u001b[0m \u001b[0mmode\u001b[0m\u001b[0;34m)\u001b[0m\u001b[0;34m:\u001b[0m\u001b[0;34m\u001b[0m\u001b[0;34m\u001b[0m\u001b[0m\n\u001b[0;32m--> 215\u001b[0;31m         \u001b[0msuper\u001b[0m\u001b[0;34m(\u001b[0m\u001b[0m_open_file\u001b[0m\u001b[0;34m,\u001b[0m \u001b[0mself\u001b[0m\u001b[0;34m)\u001b[0m\u001b[0;34m.\u001b[0m\u001b[0m__init__\u001b[0m\u001b[0;34m(\u001b[0m\u001b[0mopen\u001b[0m\u001b[0;34m(\u001b[0m\u001b[0mname\u001b[0m\u001b[0;34m,\u001b[0m \u001b[0mmode\u001b[0m\u001b[0;34m)\u001b[0m\u001b[0;34m)\u001b[0m\u001b[0;34m\u001b[0m\u001b[0;34m\u001b[0m\u001b[0m\n\u001b[0m\u001b[1;32m    216\u001b[0m \u001b[0;34m\u001b[0m\u001b[0m\n\u001b[1;32m    217\u001b[0m     \u001b[0;32mdef\u001b[0m \u001b[0m__exit__\u001b[0m\u001b[0;34m(\u001b[0m\u001b[0mself\u001b[0m\u001b[0;34m,\u001b[0m \u001b[0;34m*\u001b[0m\u001b[0margs\u001b[0m\u001b[0;34m)\u001b[0m\u001b[0;34m:\u001b[0m\u001b[0;34m\u001b[0m\u001b[0;34m\u001b[0m\u001b[0m\n",
      "\u001b[0;31mFileNotFoundError\u001b[0m: [Errno 2] No such file or directory: '../Checkpoints/FGE/CIFAR100/ConvFCSimpleTanh/ind_gb/classic/0//boost_lr/99.pt'"
     ]
    }
   ],
   "source": [
    "adj_process = torch.load(args.boost_ckpts + '/boost_lr/199.pt')"
   ]
  },
  {
   "cell_type": "code",
   "execution_count": null,
   "metadata": {},
   "outputs": [],
   "source": [
    "def draw_figures_blr(table, predicted=None, filename=None):\n",
    "    fig, ((ax1, ax2), (ax3, ax4)) = plt.subplots(\n",
    "    nrows=2, ncols=2,\n",
    "    figsize=(10, 10))\n",
    "    \n",
    "    ax1.plot(table['iter'], table['loss'])\n",
    "    ax1.set_title('Loss')\n",
    "    ax1.set_xlabel('iter')\n",
    "#     ax1.set_ylabel('Train Loss')\n",
    "#     ax1.set_xscale('log')\n",
    "    \n",
    "    ax2.plot(table['iter'], table['lr'])\n",
    "    ax2.set_title('Learning rate')\n",
    "    ax2.set_xlabel('iter')\n",
    "#     ax2.set_ylabel('Test Loss')\n",
    "#     ax2.set_xscale('log')\n",
    "    \n",
    "    ax3.plot(table['iter'], table['grad'])\n",
    "    ax3.set_title('Gradient')\n",
    "    ax3.set_xlabel('iter')\n",
    "#     ax3.set_ylabel('Train accuracy')\n",
    "#     ax3.set_xscale('log')\n",
    "    \n",
    "    if filename is not None:\n",
    "        plt.savefig(filename + '.png')"
   ]
  },
  {
   "cell_type": "code",
   "execution_count": null,
   "metadata": {},
   "outputs": [],
   "source": [
    "draw_figures_blr(adj_process, filename='figures/adjust_TLN_ingGB_200')"
   ]
  },
  {
   "cell_type": "code",
   "execution_count": null,
   "metadata": {},
   "outputs": [],
   "source": []
  },
  {
   "cell_type": "code",
   "execution_count": null,
   "metadata": {},
   "outputs": [],
   "source": []
  },
  {
   "cell_type": "code",
   "execution_count": null,
   "metadata": {},
   "outputs": [],
   "source": []
  }
 ],
 "metadata": {
  "kernelspec": {
   "display_name": "Python 3",
   "language": "python",
   "name": "python3"
  },
  "language_info": {
   "codemirror_mode": {
    "name": "ipython",
    "version": 3
   },
   "file_extension": ".py",
   "mimetype": "text/x-python",
   "name": "python",
   "nbconvert_exporter": "python",
   "pygments_lexer": "ipython3",
   "version": "3.7.4"
  }
 },
 "nbformat": 4,
 "nbformat_minor": 4
}
